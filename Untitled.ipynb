{
 "cells": [
  {
   "cell_type": "code",
   "execution_count": 1,
   "metadata": {},
   "outputs": [],
   "source": [
    "import tensorflow as tf\n",
    "import numpy as np"
   ]
  },
  {
   "cell_type": "code",
   "execution_count": 2,
   "metadata": {},
   "outputs": [
    {
     "name": "stdout",
     "output_type": "stream",
     "text": [
      "-40.0 degrees Celsius = -40.0 degrees Fahrenheit\n",
      "-10.0 degrees Celsius = 14.0 degrees Fahrenheit\n",
      "0.0 degrees Celsius = 32.0 degrees Fahrenheit\n",
      "8.0 degrees Celsius = 46.0 degrees Fahrenheit\n",
      "15.0 degrees Celsius = 59.0 degrees Fahrenheit\n",
      "22.0 degrees Celsius = 72.0 degrees Fahrenheit\n",
      "38.0 degrees Celsius = 100.0 degrees Fahrenheit\n"
     ]
    }
   ],
   "source": [
    "celsius_q  = np.array([-40,-10,0,8,15,22,38],   dtype=float)\n",
    "fahrenheit_a = np.array([-40,14,32,46,59,72,100], dtype=float)\n",
    "\n",
    "for i,c in enumerate(celsius_q):\n",
    "    print(\"{} degrees Celsius = {} degrees Fahrenheit\".format(c, fahrenheit_a[i]))"
   ]
  },
  {
   "cell_type": "code",
   "execution_count": 4,
   "metadata": {},
   "outputs": [],
   "source": [
    "aa = tf.keras.layers.Dense(units=1, input_shape=[1])"
   ]
  },
  {
   "cell_type": "code",
   "execution_count": 5,
   "metadata": {},
   "outputs": [],
   "source": [
    "model = tf.keras.Sequential([aa])"
   ]
  },
  {
   "cell_type": "code",
   "execution_count": 6,
   "metadata": {},
   "outputs": [],
   "source": [
    "model.compile(loss='mean_squared_error', optimizer=tf.keras.optimizers.Adam(0.1))"
   ]
  },
  {
   "cell_type": "code",
   "execution_count": 7,
   "metadata": {},
   "outputs": [
    {
     "name": "stdout",
     "output_type": "stream",
     "text": [
      "Finished training model\n"
     ]
    }
   ],
   "source": [
    "history = model.fit(celsius_q, fahrenheit_a, epochs=500, verbose=False)\n",
    "print(\"Finished training model\")"
   ]
  },
  {
   "cell_type": "code",
   "execution_count": 8,
   "metadata": {},
   "outputs": [
    {
     "data": {
      "text/plain": [
       "[<matplotlib.lines.Line2D at 0x7f93dbe4b940>]"
      ]
     },
     "execution_count": 8,
     "metadata": {},
     "output_type": "execute_result"
    },
    {
     "data": {
      "image/png": "[encoded data removed]",
      "text/plain": [
       "<Figure size 432x288 with 1 Axes>"
      ]
     },
     "metadata": {
      "needs_background": "light"
     },
     "output_type": "display_data"
    }
   ],
   "source": [
    "import matplotlib.pyplot as plt\n",
    "plt.xlabel('Epoch Number')\n",
    "plt.ylabel('Loss Magnitude')\n",
    "plt.plot(history.history['loss'])"
   ]
  },
  {
   "cell_type": "code",
   "execution_count": 9,
   "metadata": {},
   "outputs": [
    {
     "data": {
      "text/plain": [
       "array([[211.2848]], dtype=float32)"
      ]
     },
     "execution_count": 9,
     "metadata": {},
     "output_type": "execute_result"
    }
   ],
   "source": [
    "model.predict([100.0])"
   ]
  },
  {
   "cell_type": "code",
   "execution_count": 12,
   "metadata": {},
   "outputs": [
    {
     "name": "stdout",
     "output_type": "stream",
     "text": [
      "These are the layer variables: [array([[1.8277956]], dtype=float32), array([28.50525], dtype=float32)]\n"
     ]
    }
   ],
   "source": [
    "print(\"These are the layer variables: {}\".format(aa.get_weights()))"
   ]
  },
  {
   "cell_type": "code",
   "execution_count": null,
   "metadata": {},
   "outputs": [],
   "source": []
  },
  {
   "cell_type": "code",
   "execution_count": 14,
   "metadata": {},
   "outputs": [
    {
     "name": "stdout",
     "output_type": "stream",
     "text": [
      "Finished training model\n",
      "[[211.74744]]\n",
      "Model predicts tgat 100 degrees celcius is: [[211.74744]] degrees Fahrenheit\n",
      "These are aa Variables: [array([[-0.19849455, -0.7577283 , -0.04885029, -0.05610618]],\n",
      "      dtype=float32), array([-2.9140973, -3.200138 ,  2.8839693, -2.866361 ], dtype=float32)]\n",
      "These are aa Variables: [array([[ 0.81175464, -1.2202609 , -0.55040836, -0.41897017],\n",
      "       [ 0.15960026, -1.1336247 ,  0.3571399 , -0.5204363 ],\n",
      "       [-0.04812017,  0.91481805,  0.65203786,  0.49331287],\n",
      "       [-0.12493197, -0.14770113,  0.9018868 , -1.1437272 ]],\n",
      "      dtype=float32), array([-2.236232 ,  3.1732678, -2.2450516,  3.0302815], dtype=float32)]\n",
      "These are aa Variables: [array([[-0.52906543],\n",
      "       [ 0.8821443 ],\n",
      "       [-0.05325047],\n",
      "       [ 1.3551183 ]], dtype=float32), array([3.0057554], dtype=float32)]\n"
     ]
    }
   ],
   "source": [
    "aa = tf.keras.layers.Dense(units=4, input_shape=[1])\n",
    "bb = tf.keras.layers.Dense(units=4)\n",
    "cc = tf.keras.layers.Dense(units=1)\n",
    "model = tf.keras.Sequential([aa, bb, cc])\n",
    "model.compile(loss='mean_squared_error', optimizer=tf.keras.optimizers.Adam(0.1))\n",
    "model.fit(celsius_q, fahrenheit_a, epochs=500, verbose=False)\n",
    "print('Finished training model')\n",
    "print(model.predict([100.0]))\n",
    "print(\"Model predicts tgat 100 degrees celcius is: {} degrees Fahrenheit\".format(model.predict([100.0])))\n",
    "print(\"These are aa Variables: {}\".format(aa.get_weights()))\n",
    "print(\"These are aa Variables: {}\".format(bb.get_weights()))\n",
    "print(\"These are aa Variables: {}\".format(cc.get_weights()))"
   ]
  },
  {
   "cell_type": "code",
   "execution_count": null,
   "metadata": {},
   "outputs": [],
   "source": []
  }
 ],
 "metadata": {
  "kernelspec": {
   "display_name": "Python 3",
   "language": "python",
   "name": "python3"
  },
  "language_info": {
   "codemirror_mode": {
    "name": "ipython",
    "version": 3
   },
   "file_extension": ".py",
   "mimetype": "text/x-python",
   "name": "python",
   "nbconvert_exporter": "python",
   "pygments_lexer": "ipython3",
   "version": "3.7.3"
  }
 },
 "nbformat": 4,
 "nbformat_minor": 2
}
