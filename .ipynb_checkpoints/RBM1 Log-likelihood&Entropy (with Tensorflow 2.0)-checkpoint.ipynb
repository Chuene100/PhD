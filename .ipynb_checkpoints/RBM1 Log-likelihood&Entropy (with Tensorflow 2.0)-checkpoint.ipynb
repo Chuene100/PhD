{
 "cells": [
  {
   "cell_type": "code",
   "execution_count": 158,
   "metadata": {},
   "outputs": [],
   "source": [
    "import tensorflow as tf\n",
    "import numpy as np\n",
    "import matplotlib.pyplot as plt"
   ]
  },
  {
   "cell_type": "markdown",
   "metadata": {},
   "source": [
    "In this notebook, we show how the Restricted Boltzmann Machine (RBM) update its parameters by minimizing the Log-likelihood and we minimise the cross-entropy as a loss function.\n",
    "\n",
    "The first function in this notebook shows the minimizaion of the Log-likelihood. The second function shows the minimization of the cross-entropy.\n",
    "\n",
    "TensorFlow has been employed for further minimizations."
   ]
  },
  {
   "cell_type": "markdown",
   "metadata": {},
   "source": [
    "# Log-likelihood"
   ]
  },
  {
   "cell_type": "code",
   "execution_count": 169,
   "metadata": {},
   "outputs": [],
   "source": [
    "class RBM(object):\n",
    "    def __init__(self, vis_unit, hidd_unit,temps=tf.constant(1)):\n",
    "        self.vis_unit = vis_unit\n",
    "        self.hidd_unit = hidd_unit\n",
    "        self.temps=temps\n",
    "        \n",
    "        #Initialise the parameters\n",
    "        self.W = tf.random.uniform([self.vis_unit, self.hidd_unit],0,1)\n",
    "        \n",
    "        \n",
    "        self.W_mask = []\n",
    "        for i in range(self.hidd_unit):\n",
    "            n1 = np.random.randint(20,40)\n",
    "            a = np.zeros(self.vis_unit)\n",
    "            a[:n1] = 1\n",
    "            np.random.shuffle(a)\n",
    "            self.W_mask.append(a)\n",
    "        self.W_mask = np.array(self.W_mask).T\n",
    "        self.W_mask=(self.W_mask==1)\n",
    "        #print(self.W_mask.shape)\n",
    "        #print(self.W.shape)\n",
    "        self.W=0.01*self.W_mask\n",
    "        self.W = tf.convert_to_tensor(self.W, dtype=tf.float32)\n",
    "        \n",
    "        \n",
    "################################################ Updating Parameters ##########################################        \n",
    "    \n",
    "    \n",
    "    #Derivative of the log probability\n",
    "    def VH(self, vis, hid):\n",
    "        shvd = tf.tensordot(vis, tf.transpose(hid), axes=1)\n",
    "        return shvd\n",
    "        \n",
    "   \n",
    "    # Upgrade the gradient\n",
    "    def W_Update(self, vis):\n",
    "        #Positive phase\n",
    "        hid=self.forward_pass(vis)\n",
    "        der_W1 =self.VH(vis ,hid) \n",
    "    \n",
    "        #Negative phase\n",
    "        vis_r = self.reconstruction(self.CD_k, vis)\n",
    "        hid_r= self.forward_pass(vis_r)\n",
    "        der_W2 = self.VH(vis_r, hid_r)\n",
    "        der_W=-der_W2+der_W1\n",
    "        \n",
    "        #Updating the parameters\n",
    "        self.W = self.W + self.learning_rate * der_W/vis.shape[1]\n",
    "        \n",
    "\n",
    "########################################### Reconstruction ####################################################       \n",
    "        \n",
    "     #Calculate the hidden states\n",
    "    def forward_pass(self, vis):\n",
    "        X = tf.tensordot(tf.transpose(self.W), vis, axes=1)\n",
    "        p_h = 1.0/(1.0 + tf.exp(-2*X))\n",
    "        hid = 2*tf.cast(p_h>tf.random.uniform([self.hidd_unit,vis.shape[1]],0,1),tf.float32)-1\n",
    "        #hid = tf.nn.sigmoid(X)\n",
    "        return  hid          \n",
    "            \n",
    "    # Reconstruct the visible states\n",
    "    def backward_pass(self, hid):\n",
    "        X = tf.tensordot(self.W, hid, axes=1)\n",
    "        p_v = 1.0/(1.0+tf.exp(-2*X))\n",
    "        v_r = 2*tf.cast(p_v>tf.random.uniform([self.vis_unit,hid.shape[1]],0,1),tf.float32)-1\n",
    "        #v_r = tf.nn.sigmoid(X)\n",
    "        return v_r\n",
    "            \n",
    "    # Perform Gibbs Sampling\n",
    "    def reconstruction(self, steps, vis):\n",
    "        vis_r=vis\n",
    "        for i in tf.range(steps):\n",
    "            hid = self.forward_pass(vis_r)\n",
    "            vis_r = self.backward_pass(hid)\n",
    "        return vis_r\n",
    "    \n",
    "############################################# Training ########################################################\n",
    "\n",
    "    #Training Model\n",
    "    def learn(self, training_data, learning_rate=0.01, epochs=10, batch_size=1, CD_k=1):\n",
    "        self.learning_rate = learning_rate\n",
    "        self.epochs = epochs\n",
    "        self.batch_size = batch_size\n",
    "        self.CD_k = CD_k\n",
    "        \n",
    "        num_batches = int(training_data.shape[0]/self.batch_size)\n",
    "        self.error_history = tf.zeros(self.epochs).numpy()\n",
    "        \n",
    "        \n",
    "        for k in range(self.epochs):\n",
    "            error = 0\n",
    "            for b in range(0, num_batches):\n",
    "                batch = training_data[int(b*self.batch_size):int((b+1)*self.batch_size)]\n",
    "                vis=tf.cast(tf.transpose(batch),tf.float32)\n",
    "                self.W_Update(vis)\n",
    "                samples = self.reconstruction(1, vis)\n",
    "                error+=0.25*tf.reduce_sum(tf.square(vis-samples))/tf.cast(tf.reduce_prod(vis.shape),tf.float32)\n",
    "            error = error/num_batches\n",
    "            self.error_history[k] = error\n",
    "            print('Epoch:%d,Training error:%f'%(k, error))\n",
    "\n"
   ]
  },
  {
   "cell_type": "code",
   "execution_count": 163,
   "metadata": {},
   "outputs": [],
   "source": [
    "training_data = np.loadtxt('/Users/chuene/Documents/PhD/Pallab/filename.txt')\n",
    "data = training_data.reshape(10000,100)\n",
    "new_data = data[1000:,:]\n",
    "new_data_train = new_data[:8000]"
   ]
  },
  {
   "cell_type": "code",
   "execution_count": 170,
   "metadata": {
    "scrolled": true
   },
   "outputs": [
    {
     "name": "stdout",
     "output_type": "stream",
     "text": [
      "tf.Tensor(\n",
      "[[0.   0.   0.   ... 0.   0.   0.  ]\n",
      " [0.   0.   0.01 ... 0.   0.01 0.  ]\n",
      " [0.01 0.   0.   ... 0.   0.   0.  ]\n",
      " ...\n",
      " [0.   0.   0.   ... 0.   0.01 0.  ]\n",
      " [0.   0.01 0.   ... 0.01 0.   0.  ]\n",
      " [0.01 0.   0.   ... 0.   0.   0.  ]], shape=(100, 20), dtype=float32)\n",
      "Epoch:0,Training error:0.383854\n",
      "Epoch:1,Training error:0.303934\n",
      "Epoch:2,Training error:0.269150\n",
      "Epoch:3,Training error:0.251209\n",
      "Epoch:4,Training error:0.238459\n",
      "Epoch:5,Training error:0.228956\n",
      "Epoch:6,Training error:0.222478\n",
      "Epoch:7,Training error:0.217744\n",
      "Epoch:8,Training error:0.212284\n",
      "Epoch:9,Training error:0.209715\n",
      "Epoch:10,Training error:0.205892\n",
      "Epoch:11,Training error:0.202471\n",
      "Epoch:12,Training error:0.200670\n",
      "Epoch:13,Training error:0.198104\n",
      "Epoch:14,Training error:0.195929\n",
      "Epoch:15,Training error:0.195452\n",
      "Epoch:16,Training error:0.193261\n",
      "Epoch:17,Training error:0.193009\n",
      "Epoch:18,Training error:0.192107\n",
      "Epoch:19,Training error:0.191023\n",
      "Epoch:20,Training error:0.190686\n",
      "Epoch:21,Training error:0.190265\n",
      "Epoch:22,Training error:0.189306\n",
      "Epoch:23,Training error:0.188391\n",
      "Epoch:24,Training error:0.189490\n",
      "Epoch:25,Training error:0.187816\n",
      "Epoch:26,Training error:0.187949\n",
      "Epoch:27,Training error:0.186951\n",
      "Epoch:28,Training error:0.186994\n",
      "Epoch:29,Training error:0.186936\n",
      "Epoch:30,Training error:0.186865\n",
      "Epoch:31,Training error:0.187049\n",
      "Epoch:32,Training error:0.186380\n",
      "Epoch:33,Training error:0.185151\n",
      "Epoch:34,Training error:0.185464\n",
      "Epoch:35,Training error:0.185264\n",
      "Epoch:36,Training error:0.186064\n",
      "Epoch:37,Training error:0.185363\n",
      "Epoch:38,Training error:0.185261\n",
      "Epoch:39,Training error:0.185010\n",
      "Epoch:40,Training error:0.184864\n",
      "Epoch:41,Training error:0.185275\n",
      "Epoch:42,Training error:0.184196\n",
      "Epoch:43,Training error:0.184724\n",
      "Epoch:44,Training error:0.184356\n",
      "Epoch:45,Training error:0.184096\n",
      "Epoch:46,Training error:0.184514\n",
      "Epoch:47,Training error:0.184052\n",
      "Epoch:48,Training error:0.185069\n",
      "Epoch:49,Training error:0.184340\n",
      "Epoch:50,Training error:0.183946\n",
      "Epoch:51,Training error:0.183809\n",
      "Epoch:52,Training error:0.184120\n",
      "Epoch:53,Training error:0.184094\n",
      "Epoch:54,Training error:0.183977\n",
      "Epoch:55,Training error:0.184134\n",
      "Epoch:56,Training error:0.184196\n",
      "Epoch:57,Training error:0.184558\n",
      "Epoch:58,Training error:0.184170\n",
      "Epoch:59,Training error:0.184149\n",
      "Epoch:60,Training error:0.183585\n",
      "Epoch:61,Training error:0.184169\n",
      "Epoch:62,Training error:0.184134\n",
      "Epoch:63,Training error:0.184221\n",
      "Epoch:64,Training error:0.184149\n",
      "Epoch:65,Training error:0.183628\n",
      "Epoch:66,Training error:0.183909\n",
      "Epoch:67,Training error:0.183665\n",
      "Epoch:68,Training error:0.184166\n",
      "Epoch:69,Training error:0.183095\n",
      "Epoch:70,Training error:0.183371\n",
      "Epoch:71,Training error:0.183659\n",
      "Epoch:72,Training error:0.183285\n",
      "Epoch:73,Training error:0.183872\n",
      "Epoch:74,Training error:0.183410\n",
      "Epoch:75,Training error:0.183331\n",
      "Epoch:76,Training error:0.183190\n",
      "Epoch:77,Training error:0.184029\n",
      "Epoch:78,Training error:0.183686\n",
      "Epoch:79,Training error:0.183396\n",
      "Epoch:80,Training error:0.183221\n",
      "Epoch:81,Training error:0.183545\n",
      "Epoch:82,Training error:0.183397\n",
      "Epoch:83,Training error:0.182921\n",
      "Epoch:84,Training error:0.183459\n",
      "Epoch:85,Training error:0.183045\n",
      "Epoch:86,Training error:0.183560\n",
      "Epoch:87,Training error:0.183543\n",
      "Epoch:88,Training error:0.184009\n",
      "Epoch:89,Training error:0.183109\n",
      "Epoch:90,Training error:0.183388\n",
      "Epoch:91,Training error:0.183398\n",
      "Epoch:92,Training error:0.183366\n",
      "Epoch:93,Training error:0.183373\n",
      "Epoch:94,Training error:0.182759\n",
      "Epoch:95,Training error:0.182444\n",
      "Epoch:96,Training error:0.182777\n",
      "Epoch:97,Training error:0.182849\n",
      "Epoch:98,Training error:0.183045\n",
      "Epoch:99,Training error:0.183191\n"
     ]
    },
    {
     "data": {
      "text/plain": [
       "Text(0, 0.5, 'Error')"
      ]
     },
     "execution_count": 170,
     "metadata": {},
     "output_type": "execute_result"
    },
    {
     "data": {
      "image/png": "[encoded data removed]",
      "text/plain": [
       "<Figure size 432x288 with 1 Axes>"
      ]
     },
     "metadata": {
      "needs_background": "light"
     },
     "output_type": "display_data"
    }
   ],
   "source": [
    "rbm1 = RBM(vis_unit = 100, hidd_unit=20)\n",
    "model = rbm1.learn(training_data=new_data_train, learning_rate=0.01,epochs=100, CD_k=1, batch_size=50)\n",
    "\n",
    "plt.plot(np.arange(100), rbm1.error_history)\n",
    "plt.xlabel(\"Epochs\")\n",
    "plt.ylabel(\"Error\")"
   ]
  },
  {
   "cell_type": "markdown",
   "metadata": {},
   "source": [
    "# Cross-Entropy"
   ]
  },
  {
   "cell_type": "code",
   "execution_count": 171,
   "metadata": {},
   "outputs": [],
   "source": [
    "class RBM(object):\n",
    "    def __init__(self, vis_unit, hidd_unit,temps=tf.constant(1)):\n",
    "        self.vis_unit = vis_unit\n",
    "        self.hidd_unit = hidd_unit\n",
    "        self.temps=temps\n",
    "        \n",
    "        #Initialise the parameters\n",
    "        self.W = tf.random.uniform([self.vis_unit, self.hidd_unit],0,1)\n",
    "        \n",
    "        self.W_mask = []\n",
    "        for i in range(self.hidd_unit):\n",
    "            n1 = np.random.randint(20,40)\n",
    "            a = np.zeros(self.vis_unit)\n",
    "            a[:n1] = 1\n",
    "            np.random.shuffle(a)\n",
    "            self.W_mask.append(a)\n",
    "        self.W_mask = np.array(self.W_mask).T\n",
    "        self.W_mask=(self.W_mask==1)\n",
    "        #print(self.W_mask.shape)\n",
    "        #print(self.W.shape)\n",
    "        self.W=0.01*self.W_mask\n",
    "        self.W = tf.convert_to_tensor(self.W, dtype=tf.float32)\n",
    "################################################ Updating Parameters ##########################################        \n",
    "    \n",
    "    \n",
    "    #Derivative of the log probability\n",
    "    def VH(self, vis,hid):\n",
    "        shvd = tf.tensordot(vis,tf.transpose(hid),axes=1)\n",
    "        return shvd\n",
    "        \n",
    "   \n",
    "    # Upgrade the gradient\n",
    "    def W_Update(self, vis):\n",
    "        #Positive phase\n",
    "        hid=self.forward_pass(vis)\n",
    "        der_W1 =self.VH(vis,hid) \n",
    "    \n",
    "        #Negative phase\n",
    "        vis_r  = self.reconstruction(self.CD_k, vis)\n",
    "        hid_r  = self.forward_pass(vis_r)\n",
    "        der_W2 = self.VH(vis_r,hid_r)\n",
    "        der_W  = -self.vis_unit*der_W2 + self.vis_unit*der_W1\n",
    "        \n",
    "        #Updating the parameters\n",
    "        self.W = self.W + self.learning_rate * der_W/vis.shape[1]\n",
    "        \n",
    "\n",
    "########################################### Reconstruction ####################################################       \n",
    "        \n",
    "     #Calculate the hidden states\n",
    "    def forward_pass(self, vis):\n",
    "        X = tf.tensordot(tf.transpose(self.W), vis, axes=1)\n",
    "        p_h = 1.0/(1.0+tf.exp(-X))\n",
    "        hid = 2*tf.cast(p_h>tf.random.uniform([self.hidd_unit, vis.shape[1]],0,1),tf.float32)-1\n",
    "        #hid = tf.nn.sigmoid(X)\n",
    "        return  hid          \n",
    "            \n",
    "    # Reconstruct the visible states\n",
    "    def backward_pass(self, hid):\n",
    "        X = tf.tensordot(self.W, hid, axes=1)\n",
    "        p_v = 1.0/(1.0+tf.exp(-X))\n",
    "        v_r = 2*tf.cast(p_v>tf.random.uniform([self.vis_unit,hid.shape[1]],0,1),tf.float32)-1\n",
    "        #v_r = tf.nn.sigmoid(X)\n",
    "        return v_r\n",
    "            \n",
    "    # Perform Gibbs Sampling\n",
    "    def reconstruction(self, steps, vis):\n",
    "        vis_r=vis\n",
    "        for i in tf.range(steps):\n",
    "            hid = self.forward_pass(vis_r)\n",
    "            vis_r = self.backward_pass(hid)\n",
    "        return vis_r\n",
    "    \n",
    "############################################# Training ########################################################\n",
    "\n",
    "    #Training Model\n",
    "    def learn(self, training_data, learning_rate=0.01, epochs=10, batch_size=1, CD_k=1):\n",
    "        self.learning_rate = learning_rate\n",
    "        self.epochs = epochs\n",
    "        self.batch_size = batch_size\n",
    "        self.CD_k = CD_k\n",
    "        \n",
    "        num_batches = int(training_data.shape[0]/self.batch_size)\n",
    "        self.error_history = tf.zeros(self.epochs).numpy()\n",
    "        \n",
    "        for k in range(self.epochs):\n",
    "            error = 0\n",
    "            for b in range(0, num_batches):\n",
    "                batch = training_data[int(b*self.batch_size):int((b+1)*self.batch_size)]\n",
    "                vis=tf.transpose(tf.cast(batch, tf.float32))\n",
    "                self.W_Update(vis)\n",
    "                samples = self.reconstruction(1, vis)\n",
    "                error+=0.25*tf.reduce_sum(tf.square(vis-samples))/tf.cast(tf.reduce_prod(vis.shape),tf.float32)\n",
    "            error = error/num_batches\n",
    "            self.error_history[k] = error\n",
    "            print('Epoch:%d,Training error:%f'%(k, error))\n",
    "\n"
   ]
  },
  {
   "cell_type": "code",
   "execution_count": 172,
   "metadata": {},
   "outputs": [],
   "source": [
    "training_data = np.loadtxt('/Users/chuene/Documents/PhD/Pallab/filename.txt')\n",
    "data = training_data.reshape(10000,100)\n",
    "new_data = data[1000:,:]\n",
    "new_data_train = new_data[:8000]"
   ]
  },
  {
   "cell_type": "code",
   "execution_count": 173,
   "metadata": {},
   "outputs": [
    {
     "name": "stdout",
     "output_type": "stream",
     "text": [
      "Epoch:0,Training error:0.114835\n",
      "Epoch:1,Training error:0.081439\n",
      "Epoch:2,Training error:0.076881\n",
      "Epoch:3,Training error:0.076385\n",
      "Epoch:4,Training error:0.075035\n",
      "Epoch:5,Training error:0.075086\n",
      "Epoch:6,Training error:0.073706\n",
      "Epoch:7,Training error:0.074940\n",
      "Epoch:8,Training error:0.075818\n",
      "Epoch:9,Training error:0.074141\n",
      "Epoch:10,Training error:0.073866\n",
      "Epoch:11,Training error:0.074666\n",
      "Epoch:12,Training error:0.074425\n",
      "Epoch:13,Training error:0.074505\n",
      "Epoch:14,Training error:0.074164\n",
      "Epoch:15,Training error:0.073623\n",
      "Epoch:16,Training error:0.074076\n",
      "Epoch:17,Training error:0.074489\n",
      "Epoch:18,Training error:0.075945\n",
      "Epoch:19,Training error:0.074791\n",
      "Epoch:20,Training error:0.074542\n",
      "Epoch:21,Training error:0.074781\n",
      "Epoch:22,Training error:0.074598\n",
      "Epoch:23,Training error:0.074547\n",
      "Epoch:24,Training error:0.072970\n",
      "Epoch:25,Training error:0.074193\n",
      "Epoch:26,Training error:0.075114\n",
      "Epoch:27,Training error:0.074056\n",
      "Epoch:28,Training error:0.074588\n",
      "Epoch:29,Training error:0.073215\n",
      "Epoch:30,Training error:0.076285\n",
      "Epoch:31,Training error:0.074817\n",
      "Epoch:32,Training error:0.074398\n",
      "Epoch:33,Training error:0.072723\n",
      "Epoch:34,Training error:0.073137\n",
      "Epoch:35,Training error:0.074110\n",
      "Epoch:36,Training error:0.073690\n",
      "Epoch:37,Training error:0.075500\n",
      "Epoch:38,Training error:0.073619\n",
      "Epoch:39,Training error:0.075209\n",
      "Epoch:40,Training error:0.074059\n",
      "Epoch:41,Training error:0.074806\n",
      "Epoch:42,Training error:0.073065\n",
      "Epoch:43,Training error:0.074814\n",
      "Epoch:44,Training error:0.074309\n",
      "Epoch:45,Training error:0.074269\n",
      "Epoch:46,Training error:0.075872\n",
      "Epoch:47,Training error:0.074305\n",
      "Epoch:48,Training error:0.074379\n",
      "Epoch:49,Training error:0.073487\n",
      "Epoch:50,Training error:0.074690\n",
      "Epoch:51,Training error:0.074333\n",
      "Epoch:52,Training error:0.076131\n",
      "Epoch:53,Training error:0.075685\n",
      "Epoch:54,Training error:0.073992\n",
      "Epoch:55,Training error:0.074270\n",
      "Epoch:56,Training error:0.074849\n",
      "Epoch:57,Training error:0.075876\n",
      "Epoch:58,Training error:0.074295\n",
      "Epoch:59,Training error:0.075510\n",
      "Epoch:60,Training error:0.074874\n",
      "Epoch:61,Training error:0.074618\n",
      "Epoch:62,Training error:0.074140\n",
      "Epoch:63,Training error:0.073405\n",
      "Epoch:64,Training error:0.073816\n",
      "Epoch:65,Training error:0.073349\n",
      "Epoch:66,Training error:0.073366\n",
      "Epoch:67,Training error:0.075820\n",
      "Epoch:68,Training error:0.074351\n",
      "Epoch:69,Training error:0.073471\n",
      "Epoch:70,Training error:0.074461\n",
      "Epoch:71,Training error:0.074551\n",
      "Epoch:72,Training error:0.074725\n",
      "Epoch:73,Training error:0.073765\n",
      "Epoch:74,Training error:0.073404\n",
      "Epoch:75,Training error:0.074463\n",
      "Epoch:76,Training error:0.074295\n",
      "Epoch:77,Training error:0.074691\n",
      "Epoch:78,Training error:0.072951\n",
      "Epoch:79,Training error:0.075038\n",
      "Epoch:80,Training error:0.074282\n",
      "Epoch:81,Training error:0.075114\n",
      "Epoch:82,Training error:0.075212\n",
      "Epoch:83,Training error:0.074310\n",
      "Epoch:84,Training error:0.075026\n",
      "Epoch:85,Training error:0.074079\n",
      "Epoch:86,Training error:0.074471\n",
      "Epoch:87,Training error:0.074415\n",
      "Epoch:88,Training error:0.075421\n",
      "Epoch:89,Training error:0.074794\n",
      "Epoch:90,Training error:0.074710\n",
      "Epoch:91,Training error:0.073247\n",
      "Epoch:92,Training error:0.073019\n",
      "Epoch:93,Training error:0.073841\n",
      "Epoch:94,Training error:0.074661\n",
      "Epoch:95,Training error:0.074157\n",
      "Epoch:96,Training error:0.074437\n",
      "Epoch:97,Training error:0.074661\n",
      "Epoch:98,Training error:0.074696\n",
      "Epoch:99,Training error:0.074770\n"
     ]
    },
    {
     "data": {
      "text/plain": [
       "Text(0, 0.5, 'error')"
      ]
     },
     "execution_count": 173,
     "metadata": {},
     "output_type": "execute_result"
    },
    {
     "data": {
      "image/png": "[encoded data removed]",
      "text/plain": [
       "<Figure size 432x288 with 1 Axes>"
      ]
     },
     "metadata": {
      "needs_background": "light"
     },
     "output_type": "display_data"
    }
   ],
   "source": [
    "rbm2 = RBM(vis_unit = 100, hidd_unit=50)\n",
    "model = rbm2.learn(training_data=new_data_train, learning_rate=0.01,epochs=100, CD_k=1, batch_size=50)\n",
    "\n",
    "plt.plot(np.arange(100), rbm2.error_history)\n",
    "plt.xlabel(\"Epochs\")\n",
    "plt.ylabel(\"error\")"
   ]
  },
  {
   "cell_type": "code",
   "execution_count": null,
   "metadata": {},
   "outputs": [],
   "source": []
  },
  {
   "cell_type": "code",
   "execution_count": 153,
   "metadata": {},
   "outputs": [],
   "source": [
    "n1 =  tf.random.uniform([],10,30, dtype=tf.int32)\n",
    "a  = tf.zeros(100)\n",
    "#a[:n1]=1"
   ]
  },
  {
   "cell_type": "code",
   "execution_count": 154,
   "metadata": {},
   "outputs": [
    {
     "data": {
      "text/plain": [
       "<tf.Tensor: shape=(), dtype=int32, numpy=26>"
      ]
     },
     "execution_count": 154,
     "metadata": {},
     "output_type": "execute_result"
    }
   ],
   "source": [
    "n1"
   ]
  },
  {
   "cell_type": "code",
   "execution_count": 155,
   "metadata": {},
   "outputs": [
    {
     "data": {
      "text/plain": [
       "<tf.Tensor: shape=(100,), dtype=float32, numpy=\n",
       "array([0., 0., 0., 0., 0., 0., 0., 0., 0., 0., 0., 0., 0., 0., 0., 0., 0.,\n",
       "       0., 0., 0., 0., 0., 0., 0., 0., 0., 0., 0., 0., 0., 0., 0., 0., 0.,\n",
       "       0., 0., 0., 0., 0., 0., 0., 0., 0., 0., 0., 0., 0., 0., 0., 0., 0.,\n",
       "       0., 0., 0., 0., 0., 0., 0., 0., 0., 0., 0., 0., 0., 0., 0., 0., 0.,\n",
       "       0., 0., 0., 0., 0., 0., 0., 0., 0., 0., 0., 0., 0., 0., 0., 0., 0.,\n",
       "       0., 0., 0., 0., 0., 0., 0., 0., 0., 0., 0., 0., 0., 0., 0.],\n",
       "      dtype=float32)>"
      ]
     },
     "execution_count": 155,
     "metadata": {},
     "output_type": "execute_result"
    }
   ],
   "source": [
    "a"
   ]
  },
  {
   "cell_type": "code",
   "execution_count": 156,
   "metadata": {},
   "outputs": [],
   "source": [
    "#v = tf.slice(a,n1,size=(10,30))\n",
    "v = tf.gather(a, [n1]) "
   ]
  },
  {
   "cell_type": "code",
   "execution_count": 157,
   "metadata": {},
   "outputs": [
    {
     "data": {
      "text/plain": [
       "<tf.Tensor: shape=(1,), dtype=float32, numpy=array([0.], dtype=float32)>"
      ]
     },
     "execution_count": 157,
     "metadata": {},
     "output_type": "execute_result"
    }
   ],
   "source": [
    "v"
   ]
  },
  {
   "cell_type": "code",
   "execution_count": 92,
   "metadata": {},
   "outputs": [],
   "source": [
    "import numpy  as np"
   ]
  },
  {
   "cell_type": "code",
   "execution_count": 136,
   "metadata": {},
   "outputs": [],
   "source": [
    "x = np.random.randint(10,30)"
   ]
  },
  {
   "cell_type": "code",
   "execution_count": 137,
   "metadata": {},
   "outputs": [
    {
     "data": {
      "text/plain": [
       "19"
      ]
     },
     "execution_count": 137,
     "metadata": {},
     "output_type": "execute_result"
    }
   ],
   "source": [
    "x"
   ]
  },
  {
   "cell_type": "code",
   "execution_count": 138,
   "metadata": {},
   "outputs": [],
   "source": [
    "a  = np.zeros(100)"
   ]
  },
  {
   "cell_type": "code",
   "execution_count": 139,
   "metadata": {},
   "outputs": [
    {
     "data": {
      "text/plain": [
       "(100,)"
      ]
     },
     "execution_count": 139,
     "metadata": {},
     "output_type": "execute_result"
    }
   ],
   "source": [
    "a.shape"
   ]
  },
  {
   "cell_type": "code",
   "execution_count": 145,
   "metadata": {},
   "outputs": [
    {
     "data": {
      "text/plain": [
       "(5,)"
      ]
     },
     "execution_count": 145,
     "metadata": {},
     "output_type": "execute_result"
    }
   ],
   "source": [
    "a[:5].shape"
   ]
  },
  {
   "cell_type": "code",
   "execution_count": 128,
   "metadata": {},
   "outputs": [
    {
     "ename": "AttributeError",
     "evalue": "'tensorflow.python.framework.ops.EagerTensor' object has no attribute 'assign'",
     "output_type": "error",
     "traceback": [
      "\u001b[0;31m---------------------------------------------------------------------------\u001b[0m",
      "\u001b[0;31mAttributeError\u001b[0m                            Traceback (most recent call last)",
      "\u001b[0;32m<ipython-input-128-6bfe1e894baf>\u001b[0m in \u001b[0;36m<module>\u001b[0;34m\u001b[0m\n\u001b[0;32m----> 1\u001b[0;31m \u001b[0mtf\u001b[0m\u001b[0;34m.\u001b[0m\u001b[0mcompat\u001b[0m\u001b[0;34m.\u001b[0m\u001b[0mv1\u001b[0m\u001b[0;34m.\u001b[0m\u001b[0massign\u001b[0m\u001b[0;34m(\u001b[0m\u001b[0ma\u001b[0m\u001b[0;34m[\u001b[0m\u001b[0;34m:\u001b[0m\u001b[0mn1\u001b[0m\u001b[0;34m]\u001b[0m\u001b[0;34m,\u001b[0m\u001b[0;36m1\u001b[0m\u001b[0;34m)\u001b[0m\u001b[0;34m\u001b[0m\u001b[0;34m\u001b[0m\u001b[0m\n\u001b[0m",
      "\u001b[0;32m~/.local/lib/python3.7/site-packages/tensorflow/python/ops/state_ops.py\u001b[0m in \u001b[0;36massign\u001b[0;34m(ref, value, validate_shape, use_locking, name)\u001b[0m\n\u001b[1;32m    226\u001b[0m         \u001b[0mref\u001b[0m\u001b[0;34m,\u001b[0m \u001b[0mvalue\u001b[0m\u001b[0;34m,\u001b[0m \u001b[0muse_locking\u001b[0m\u001b[0;34m=\u001b[0m\u001b[0muse_locking\u001b[0m\u001b[0;34m,\u001b[0m \u001b[0mname\u001b[0m\u001b[0;34m=\u001b[0m\u001b[0mname\u001b[0m\u001b[0;34m,\u001b[0m\u001b[0;34m\u001b[0m\u001b[0;34m\u001b[0m\u001b[0m\n\u001b[1;32m    227\u001b[0m         validate_shape=validate_shape)\n\u001b[0;32m--> 228\u001b[0;31m   \u001b[0;32mreturn\u001b[0m \u001b[0mref\u001b[0m\u001b[0;34m.\u001b[0m\u001b[0massign\u001b[0m\u001b[0;34m(\u001b[0m\u001b[0mvalue\u001b[0m\u001b[0;34m,\u001b[0m \u001b[0mname\u001b[0m\u001b[0;34m=\u001b[0m\u001b[0mname\u001b[0m\u001b[0;34m)\u001b[0m\u001b[0;34m\u001b[0m\u001b[0;34m\u001b[0m\u001b[0m\n\u001b[0m\u001b[1;32m    229\u001b[0m \u001b[0;34m\u001b[0m\u001b[0m\n\u001b[1;32m    230\u001b[0m \u001b[0;34m\u001b[0m\u001b[0m\n",
      "\u001b[0;31mAttributeError\u001b[0m: 'tensorflow.python.framework.ops.EagerTensor' object has no attribute 'assign'"
     ]
    }
   ],
   "source": [
    "tf.compat.v1.assign(a[:n1],1)"
   ]
  },
  {
   "cell_type": "code",
   "execution_count": 114,
   "metadata": {},
   "outputs": [
    {
     "data": {
      "text/plain": [
       "<tf.Tensor: shape=(100,), dtype=float32, numpy=\n",
       "array([0., 0., 0., 0., 0., 0., 0., 0., 0., 0., 0., 0., 0., 0., 0., 0., 0.,\n",
       "       0., 0., 0., 0., 0., 0., 0., 0., 0., 0., 0., 0., 0., 0., 0., 0., 0.,\n",
       "       0., 0., 0., 0., 0., 0., 0., 0., 0., 0., 0., 0., 0., 0., 0., 0., 0.,\n",
       "       0., 0., 0., 0., 0., 0., 0., 0., 0., 0., 0., 0., 0., 0., 0., 0., 0.,\n",
       "       0., 0., 0., 0., 0., 0., 0., 0., 0., 0., 0., 0., 0., 0., 0., 0., 0.,\n",
       "       0., 0., 0., 0., 0., 0., 0., 0., 0., 0., 0., 0., 0., 0., 0.],\n",
       "      dtype=float32)>"
      ]
     },
     "execution_count": 114,
     "metadata": {},
     "output_type": "execute_result"
    }
   ],
   "source": [
    "a"
   ]
  },
  {
   "cell_type": "code",
   "execution_count": null,
   "metadata": {},
   "outputs": [],
   "source": []
  }
 ],
 "metadata": {
  "kernelspec": {
   "display_name": "Python 3",
   "language": "python",
   "name": "python3"
  },
  "language_info": {
   "codemirror_mode": {
    "name": "ipython",
    "version": 3
   },
   "file_extension": ".py",
   "mimetype": "text/x-python",
   "name": "python",
   "nbconvert_exporter": "python",
   "pygments_lexer": "ipython3",
   "version": "3.7.3"
  }
 },
 "nbformat": 4,
 "nbformat_minor": 2
}
