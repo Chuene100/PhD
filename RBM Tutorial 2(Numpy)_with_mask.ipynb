{
 "cells": [
  {
   "cell_type": "code",
   "execution_count": 2,
   "metadata": {},
   "outputs": [],
   "source": [
    "import numpy as np\n",
    "import matplotlib.pyplot as plt"
   ]
  },
  {
   "cell_type": "code",
   "execution_count": 3,
   "metadata": {},
   "outputs": [],
   "source": [
    "class RBM(object):\n",
    "    def __init__(self, vis_unit, hidd_unit,temps=np.array(1)):\n",
    "        self.vis_unit = vis_unit\n",
    "        self.hidd_unit = hidd_unit\n",
    "        self.temps=temps \n",
    "        #Initialise the parameters\n",
    "        self.W = np.random.rand(self.vis_unit, self.hidd_unit)\n",
    "        \n",
    "        self.W_mask = []\n",
    "        for i in np.arange(self.hidd_unit):\n",
    "            n1 = np.random.randint(20,40)\n",
    "            a = np.zeros(self.vis_unit)\n",
    "            a[:n1] = 1\n",
    "            np.random.shuffle(a)\n",
    "            self.W_mask.append(a)\n",
    "        self.W_mask = np.array(self.W_mask).T\n",
    "        self.W_mask=(self.W_mask==1)\n",
    "        print(self.W_mask.shape)\n",
    "        print(self.W.shape)\n",
    "        self.W=0.01*self.W_mask\n",
    "            \n",
    "        #MCMC chains\n",
    "        self.chain_vis=np.random.binomial(1,0.5,vis_unit).reshape(vis_unit,1)\n",
    "        self.p_v=self.chain_vis\n",
    "        \n",
    "        self.chain_hid=np.random.binomial(1,0.5,hidd_unit).reshape(hidd_unit,1)\n",
    "        self.p_h=self.chain_hid\n",
    "        self.n_samples=0\n",
    "################################################ Updating Parameters ##########################################        \n",
    "    \n",
    "    def rbm_update_ps(self): #one sample at a time, MCMC by backward and forward pass\n",
    "        hid=self.forward_pass(self.chain_vis)\n",
    "        self.chain_hid=hid\n",
    "        vis=self.backward_pass(hid)\n",
    "        self.chain_vis=vis\n",
    "        self.p_v_chain=(self.p_v*(self.n_samples)+self.chain_vis)/(self.n_samples+1)\n",
    "        self.p_h_chain=(self.p_h*(self.n_samples)+self.chain_hid)/(self.n_samples+1)\n",
    "        self.n_samples+=1\n",
    "            \n",
    "    \n",
    "    #Derivative of the log probability\n",
    "    def VH(self, vis,hid):\n",
    "        shvd= np.tensordot(vis,hid.T,axes=1)\n",
    "        return shvd\n",
    "        \n",
    "   \n",
    "    # Upgrade the gradient     \n",
    "    def W_Update(self, vis):\n",
    "        #Positive phase\n",
    "        hid=self.forward_pass(vis)\n",
    "        der_W1 =self.VH(vis,hid) \n",
    "            \n",
    "        #Negative phase\n",
    "        vis_r = self.reconstruction(self.CD_k, vis)\n",
    "        hid_r= self.forward_pass(vis_r)\n",
    "        der_W2 = self.VH(vis_r,hid_r) \n",
    "        der_W=-der_W2+der_W1\n",
    "        #der_W=der_W/np.sqrt(np.sum(der_W**2)/(self.hidd_unit*self.vis_unit))\n",
    "        \n",
    "        #Updating the parameters\n",
    "        #self.W = self.W + self.learning_rate*der_W/vis.shape[1]\n",
    "        self.W[self.W_mask] = self.W[self.W_mask] + self.learning_rate*der_W[self.W_mask]/vis.shape[1]\n",
    "        \n",
    "    def W_Update_Chain(self,vis):\n",
    "        hid=self.forward_pass(vis)\n",
    "        der_W1 =self.VH(vis,hid)/vis.shape[1]\n",
    "        \n",
    "        #model\n",
    "        self.rbm_update_ps()\n",
    "        der_W2=self.VH((2*self.p_v_chain-1),(2*self.p_h_chain-1))\n",
    "        der_W=-der_W2+der_W1\n",
    "        #der_W=der_W/np.sqrt(np.sum(der_W**2)/(self.hidd_unit*self.vis_unit))\n",
    "        \n",
    "        #Updatinf the parameters\n",
    "        self.W = self.W + self.learning_rate*der_W\n",
    "         \n",
    "    \n",
    "    def W_Update2(self, vis):\n",
    "        #Positive phase\n",
    "        X = np.tensordot(self.W.T, vis, axes=1)\n",
    "        p_h = 1.0/(1.0+np.exp(-2*X))\n",
    "        der_W1 =self.VH(vis,2*p_h-1) \n",
    "            \n",
    "        #Negative phase\n",
    "        vis_r = self.reconstruction(self.CD_k, vis)\n",
    "        X = np.tensordot(self.W.T, vis_r, axes=1)\n",
    "        p_h = 1.0/(1.0+np.exp(-2*X))\n",
    "        der_W2 = self.VH(vis_r,2*p_h-1) \n",
    "        der_W=-der_W2+der_W1\n",
    "        #der_W=der_W/np.sqrt(np.sum(der_W**2)/(self.hidd_unit*self.vis_unit))\n",
    "        \n",
    "        #Updating the parameters\n",
    "        self.W = self.W + self.learning_rate*der_W/vis.shape[1]\n",
    "        #self.W[self.W_mask] = self.W[self.W_mask] + self.learning_rate*der_W[self.W_mask]/vis.shape[1] \n",
    "        \n",
    "########################################### Reconstruction ####################################################       \n",
    "        \n",
    "     #Calculate the hidden states \n",
    "    def forward_pass(self, vis):\n",
    "        X = np.tensordot(self.W.T, vis, axes=1)\n",
    "        p_h = 1.0/(1.0+np.exp(-2*X))\n",
    "        hid  = 2*(p_h>np.random.rand(self.hidd_unit, vis.shape[1]))-1\n",
    "        return hid            \n",
    "            \n",
    "    # Reconstruct the visible states   \n",
    "    def backward_pass(self, hid):\n",
    "        X = np.tensordot(self.W,hid,axes=1)\n",
    "        p_v = 1.0/(1.0+np.exp(-2*X))\n",
    "        v_r = 2*(p_v>np.random.rand(self.vis_unit,hid.shape[1]))-1\n",
    "        return v_r\n",
    "            \n",
    "    # Perform Gibbs Sampling\n",
    "    def reconstruction(self, steps, vis):\n",
    "        vis_r=vis\n",
    "        for i in np.arange(steps):\n",
    "            hid = self.forward_pass(vis_r)\n",
    "            vis_r = self.backward_pass(hid)\n",
    "        return vis_r\n",
    "    \n",
    "############################################# Training ########################################################\n",
    "\n",
    "    #Training Model    \n",
    "    def learn(self, training_data, test_data, learning_rate=0.01, epochs=10, batch_size=1, CD_k=1):\n",
    "        self.learning_rate = learning_rate\n",
    "        self.epochs = epochs\n",
    "        self.batch_size = batch_size\n",
    "        self.CD_k = CD_k\n",
    "        \n",
    "        num_batches = int(training_data.shape[0]/self.batch_size)\n",
    "        self.error_history=np.zeros(self.epochs)\n",
    "        vis_test = test_data.T\n",
    "        \n",
    "        for k in np.arange(self.epochs):\n",
    "            \n",
    "            error = 0\n",
    "            for b in np.arange(0, num_batches):\n",
    "                batch = training_data[int(b*self.batch_size):int((b+1)*self.batch_size)]\n",
    "                vis=batch.T\n",
    "                self.W_Update(vis)\n",
    "                samples = self.reconstruction(1, vis_test)\n",
    "                error += 0.25*np.sum((vis_test - samples)**2)/np.prod(vis_test.shape)\n",
    "            error=error/num_batches\n",
    "            self.error_history[k]=error\n",
    "            \n",
    "            print('Epoch:%d,Training error:%f'%(k, error))\n"
   ]
  },
  {
   "cell_type": "code",
   "execution_count": 4,
   "metadata": {},
   "outputs": [],
   "source": [
    "training_data = np.loadtxt('filename.txt')"
   ]
  },
  {
   "cell_type": "code",
   "execution_count": 5,
   "metadata": {},
   "outputs": [
    {
     "data": {
      "text/plain": [
       "(1000000,)"
      ]
     },
     "execution_count": 5,
     "metadata": {},
     "output_type": "execute_result"
    }
   ],
   "source": [
    "training_data.shape"
   ]
  },
  {
   "cell_type": "code",
   "execution_count": 6,
   "metadata": {},
   "outputs": [],
   "source": [
    "data = training_data.reshape(10000,100)"
   ]
  },
  {
   "cell_type": "code",
   "execution_count": 7,
   "metadata": {},
   "outputs": [],
   "source": [
    "new_data = data[1000:,:]"
   ]
  },
  {
   "cell_type": "code",
   "execution_count": 8,
   "metadata": {},
   "outputs": [
    {
     "data": {
      "text/plain": [
       "(9000, 100)"
      ]
     },
     "execution_count": 8,
     "metadata": {},
     "output_type": "execute_result"
    }
   ],
   "source": [
    "new_data.shape"
   ]
  },
  {
   "cell_type": "code",
   "execution_count": 9,
   "metadata": {},
   "outputs": [],
   "source": [
    "new_data_train = new_data[:8000]"
   ]
  },
  {
   "cell_type": "code",
   "execution_count": 10,
   "metadata": {},
   "outputs": [
    {
     "data": {
      "text/plain": [
       "(8000, 100)"
      ]
     },
     "execution_count": 10,
     "metadata": {},
     "output_type": "execute_result"
    }
   ],
   "source": [
    "new_data_train.shape"
   ]
  },
  {
   "cell_type": "code",
   "execution_count": 11,
   "metadata": {},
   "outputs": [],
   "source": [
    "new_data_test = new_data[8000:]"
   ]
  },
  {
   "cell_type": "code",
   "execution_count": 12,
   "metadata": {},
   "outputs": [
    {
     "data": {
      "text/plain": [
       "(1000, 100)"
      ]
     },
     "execution_count": 12,
     "metadata": {},
     "output_type": "execute_result"
    }
   ],
   "source": [
    "new_data_test.shape"
   ]
  },
  {
   "cell_type": "code",
   "execution_count": 132,
   "metadata": {},
   "outputs": [
    {
     "name": "stdout",
     "output_type": "stream",
     "text": [
      "(100, 80)\n",
      "(100, 80)\n",
      "Epoch:0,Training error:0.434634\n",
      "Epoch:1,Training error:0.304491\n",
      "Epoch:2,Training error:0.234234\n",
      "Epoch:3,Training error:0.193150\n",
      "Epoch:4,Training error:0.168102\n",
      "Epoch:5,Training error:0.152242\n",
      "Epoch:6,Training error:0.141172\n",
      "Epoch:7,Training error:0.132704\n",
      "Epoch:8,Training error:0.125566\n",
      "Epoch:9,Training error:0.120523\n",
      "Epoch:10,Training error:0.115606\n",
      "Epoch:11,Training error:0.111950\n",
      "Epoch:12,Training error:0.108450\n",
      "Epoch:13,Training error:0.105592\n",
      "Epoch:14,Training error:0.103078\n",
      "Epoch:15,Training error:0.100688\n",
      "Epoch:16,Training error:0.098606\n",
      "Epoch:17,Training error:0.096992\n",
      "Epoch:18,Training error:0.095127\n",
      "Epoch:19,Training error:0.093571\n",
      "Epoch:20,Training error:0.092167\n",
      "Epoch:21,Training error:0.090552\n",
      "Epoch:22,Training error:0.089428\n",
      "Epoch:23,Training error:0.088495\n",
      "Epoch:24,Training error:0.087382\n",
      "Epoch:25,Training error:0.086601\n",
      "Epoch:26,Training error:0.085639\n",
      "Epoch:27,Training error:0.084637\n",
      "Epoch:28,Training error:0.083526\n",
      "Epoch:29,Training error:0.082818\n",
      "Epoch:30,Training error:0.082060\n",
      "Epoch:31,Training error:0.081560\n",
      "Epoch:32,Training error:0.080993\n",
      "Epoch:33,Training error:0.080611\n",
      "Epoch:34,Training error:0.080287\n",
      "Epoch:35,Training error:0.079874\n",
      "Epoch:36,Training error:0.079630\n",
      "Epoch:37,Training error:0.079369\n",
      "Epoch:38,Training error:0.079096\n",
      "Epoch:39,Training error:0.078828\n",
      "Epoch:40,Training error:0.078297\n",
      "Epoch:41,Training error:0.077950\n",
      "Epoch:42,Training error:0.077748\n",
      "Epoch:43,Training error:0.077283\n",
      "Epoch:44,Training error:0.077078\n",
      "Epoch:45,Training error:0.076731\n",
      "Epoch:46,Training error:0.076417\n",
      "Epoch:47,Training error:0.076120\n",
      "Epoch:48,Training error:0.075831\n",
      "Epoch:49,Training error:0.075783\n",
      "Epoch:50,Training error:0.075412\n",
      "Epoch:51,Training error:0.075340\n",
      "Epoch:52,Training error:0.074978\n",
      "Epoch:53,Training error:0.074717\n",
      "Epoch:54,Training error:0.074633\n",
      "Epoch:55,Training error:0.074427\n",
      "Epoch:56,Training error:0.074101\n",
      "Epoch:57,Training error:0.073718\n",
      "Epoch:58,Training error:0.073265\n",
      "Epoch:59,Training error:0.073182\n",
      "Epoch:60,Training error:0.072995\n",
      "Epoch:61,Training error:0.072875\n",
      "Epoch:62,Training error:0.072474\n",
      "Epoch:63,Training error:0.072344\n",
      "Epoch:64,Training error:0.072340\n",
      "Epoch:65,Training error:0.072198\n",
      "Epoch:66,Training error:0.072098\n",
      "Epoch:67,Training error:0.071898\n",
      "Epoch:68,Training error:0.071852\n",
      "Epoch:69,Training error:0.071620\n",
      "Epoch:70,Training error:0.071333\n",
      "Epoch:71,Training error:0.071309\n",
      "Epoch:72,Training error:0.071313\n",
      "Epoch:73,Training error:0.071377\n",
      "Epoch:74,Training error:0.071047\n",
      "Epoch:75,Training error:0.070867\n",
      "Epoch:76,Training error:0.070742\n",
      "Epoch:77,Training error:0.070674\n",
      "Epoch:78,Training error:0.070619\n",
      "Epoch:79,Training error:0.070570\n",
      "Epoch:80,Training error:0.070506\n",
      "Epoch:81,Training error:0.070504\n",
      "Epoch:82,Training error:0.070487\n",
      "Epoch:83,Training error:0.070345\n",
      "Epoch:84,Training error:0.070163\n",
      "Epoch:85,Training error:0.070385\n",
      "Epoch:86,Training error:0.070360\n",
      "Epoch:87,Training error:0.070312\n",
      "Epoch:88,Training error:0.069964\n",
      "Epoch:89,Training error:0.069944\n",
      "Epoch:90,Training error:0.070143\n",
      "Epoch:91,Training error:0.069943\n",
      "Epoch:92,Training error:0.069776\n",
      "Epoch:93,Training error:0.069777\n",
      "Epoch:94,Training error:0.069816\n",
      "Epoch:95,Training error:0.069789\n",
      "Epoch:96,Training error:0.069451\n",
      "Epoch:97,Training error:0.069433\n",
      "Epoch:98,Training error:0.069607\n",
      "Epoch:99,Training error:0.069380\n"
     ]
    }
   ],
   "source": [
    "rbm = RBM(vis_unit = 100, hidd_unit=80)\n",
    "model = rbm.learn(training_data=new_data_train,test_data=new_data_test, learning_rate=0.01,epochs=100, CD_k=2, batch_size=50)"
   ]
  },
  {
   "cell_type": "code",
   "execution_count": 133,
   "metadata": {},
   "outputs": [
    {
     "data": {
      "text/plain": [
       "Text(0, 0.5, 'error')"
      ]
     },
     "execution_count": 133,
     "metadata": {},
     "output_type": "execute_result"
    },
    {
     "data": {
      "image/png": "[encoded data removed]",
      "text/plain": [
       "<Figure size 432x288 with 1 Axes>"
      ]
     },
     "metadata": {
      "needs_background": "light"
     },
     "output_type": "display_data"
    }
   ],
   "source": [
    "plt.plot(np.arange(100), rbm.error_history)\n",
    "plt.xlabel(\"Epochs\")\n",
    "plt.ylabel(\"error\")"
   ]
  },
  {
   "cell_type": "code",
   "execution_count": 134,
   "metadata": {},
   "outputs": [],
   "source": [
    "def energy_ising_1d(configuration,J,h):\n",
    "    num_spins = len(configuration)\n",
    "    energy = 0.0\n",
    "    for i in range(num_spins):\n",
    "        spini = configuration[i]\n",
    "        #set the value of spin i+1, make sure to test if i+1<num_spins, and otherwise account for periodic boundaries\n",
    "        #you can do this with an if statement if you have to\n",
    "        ip1 = (i+1)%num_spins\n",
    "        spinip1 = configuration[ip1]\n",
    "        \n",
    "        energy = energy - J * (spini * spinip1) - h*spini\n",
    "        \n",
    "    return energy\n",
    "\n",
    "def energy_batch(configs,J,h):\n",
    "    energies = np.array([energy_ising_1d(config,J,h) for config in configs])\n",
    "    \n",
    "    return energies\n",
    "\n",
    "def avg_energy(configs,J,h):\n",
    "    return np.mean(energy_batch(configs,J,h))"
   ]
  },
  {
   "cell_type": "code",
   "execution_count": 135,
   "metadata": {},
   "outputs": [
    {
     "name": "stdout",
     "output_type": "stream",
     "text": [
      "mean_data_train: -75.936\n",
      "mean_data_test: -76.356\n",
      "mean_recons: -74.7545\n",
      "std_data_train: 6.2212461774149395\n",
      "std_data_test: 6.275130596250567\n",
      "std_recons: 6.769544279344068\n"
     ]
    }
   ],
   "source": [
    "recons_array = rbm.reconstruction(5, new_data_train.T)\n",
    "recons_energy =  energy_batch(recons_array.T,J=1,h=0)\n",
    "\n",
    "data_energy_train = energy_batch(new_data_train,J=1,h=0)\n",
    "data_energy_test = energy_batch(new_data_test,J=1,h=0)\n",
    "\n",
    "mean_data_train = np.mean(data_energy_train)\n",
    "mean_data_test = np.mean(data_energy_test)\n",
    "mean_recons = np.mean(recons_energy)\n",
    "\n",
    "print('mean_data_train:',mean_data_train)\n",
    "print('mean_data_test:',mean_data_test)\n",
    "print('mean_recons:',mean_recons)\n",
    "\n",
    "std_data_train = np.std(data_energy_train)\n",
    "std_data_test = np.std(data_energy_test)\n",
    "std_recons = np.std(recons_energy)\n",
    "\n",
    "print('std_data_train:',std_data_train)\n",
    "print('std_data_test:',std_data_test)\n",
    "print('std_recons:',std_recons)"
   ]
  },
  {
   "cell_type": "code",
   "execution_count": 136,
   "metadata": {
    "scrolled": false
   },
   "outputs": [
    {
     "data": {
      "text/plain": [
       "<matplotlib.legend.Legend at 0x15ae99a90>"
      ]
     },
     "execution_count": 136,
     "metadata": {},
     "output_type": "execute_result"
    },
    {
     "data": {
      "image/png": "[encoded data removed]",
      "text/plain": [
       "<Figure size 432x288 with 1 Axes>"
      ]
     },
     "metadata": {
      "needs_background": "light"
     },
     "output_type": "display_data"
    }
   ],
   "source": [
    "plt.hist(data_energy_train, label='data_energy_train', density=True)\n",
    "plt.hist(data_energy_test, label='data_energy_test', density=True)\n",
    "plt.hist(recons_energy, label='recons_energy', density=True)\n",
    "plt.legend()"
   ]
  },
  {
   "cell_type": "code",
   "execution_count": 137,
   "metadata": {},
   "outputs": [
    {
     "name": "stdout",
     "output_type": "stream",
     "text": [
      "Epoch:0,Training error:0.069401\n",
      "Epoch:1,Training error:0.069190\n",
      "Epoch:2,Training error:0.069318\n",
      "Epoch:3,Training error:0.069272\n",
      "Epoch:4,Training error:0.068950\n",
      "Epoch:5,Training error:0.069005\n",
      "Epoch:6,Training error:0.068920\n",
      "Epoch:7,Training error:0.068938\n",
      "Epoch:8,Training error:0.069003\n",
      "Epoch:9,Training error:0.068866\n",
      "Epoch:10,Training error:0.068843\n",
      "Epoch:11,Training error:0.068606\n",
      "Epoch:12,Training error:0.068662\n",
      "Epoch:13,Training error:0.068775\n",
      "Epoch:14,Training error:0.068814\n",
      "Epoch:15,Training error:0.068762\n",
      "Epoch:16,Training error:0.068534\n",
      "Epoch:17,Training error:0.068482\n",
      "Epoch:18,Training error:0.068467\n",
      "Epoch:19,Training error:0.068471\n",
      "Epoch:20,Training error:0.068370\n",
      "Epoch:21,Training error:0.068354\n",
      "Epoch:22,Training error:0.068275\n",
      "Epoch:23,Training error:0.068160\n",
      "Epoch:24,Training error:0.068032\n",
      "Epoch:25,Training error:0.068093\n",
      "Epoch:26,Training error:0.068182\n",
      "Epoch:27,Training error:0.067955\n",
      "Epoch:28,Training error:0.067997\n",
      "Epoch:29,Training error:0.068025\n",
      "Epoch:30,Training error:0.067912\n",
      "Epoch:31,Training error:0.067785\n",
      "Epoch:32,Training error:0.067788\n",
      "Epoch:33,Training error:0.067624\n",
      "Epoch:34,Training error:0.067642\n",
      "Epoch:35,Training error:0.067587\n",
      "Epoch:36,Training error:0.067691\n",
      "Epoch:37,Training error:0.067602\n",
      "Epoch:38,Training error:0.067736\n",
      "Epoch:39,Training error:0.067710\n",
      "Epoch:40,Training error:0.067693\n",
      "Epoch:41,Training error:0.067486\n",
      "Epoch:42,Training error:0.067489\n",
      "Epoch:43,Training error:0.067573\n",
      "Epoch:44,Training error:0.067667\n",
      "Epoch:45,Training error:0.067634\n",
      "Epoch:46,Training error:0.067853\n",
      "Epoch:47,Training error:0.067845\n",
      "Epoch:48,Training error:0.067799\n",
      "Epoch:49,Training error:0.067536\n",
      "Epoch:50,Training error:0.067551\n",
      "Epoch:51,Training error:0.067680\n",
      "Epoch:52,Training error:0.067617\n",
      "Epoch:53,Training error:0.067732\n",
      "Epoch:54,Training error:0.067630\n",
      "Epoch:55,Training error:0.067589\n",
      "Epoch:56,Training error:0.067566\n",
      "Epoch:57,Training error:0.067651\n",
      "Epoch:58,Training error:0.067592\n",
      "Epoch:59,Training error:0.067496\n",
      "Epoch:60,Training error:0.067392\n",
      "Epoch:61,Training error:0.067347\n",
      "Epoch:62,Training error:0.067370\n",
      "Epoch:63,Training error:0.067246\n",
      "Epoch:64,Training error:0.067290\n",
      "Epoch:65,Training error:0.067220\n",
      "Epoch:66,Training error:0.067249\n",
      "Epoch:67,Training error:0.067276\n",
      "Epoch:68,Training error:0.067234\n",
      "Epoch:69,Training error:0.067235\n",
      "Epoch:70,Training error:0.067235\n",
      "Epoch:71,Training error:0.067074\n",
      "Epoch:72,Training error:0.067099\n",
      "Epoch:73,Training error:0.066882\n",
      "Epoch:74,Training error:0.066882\n",
      "Epoch:75,Training error:0.067105\n",
      "Epoch:76,Training error:0.066906\n",
      "Epoch:77,Training error:0.066957\n",
      "Epoch:78,Training error:0.066921\n",
      "Epoch:79,Training error:0.066828\n",
      "Epoch:80,Training error:0.066960\n",
      "Epoch:81,Training error:0.066681\n",
      "Epoch:82,Training error:0.066695\n",
      "Epoch:83,Training error:0.066709\n",
      "Epoch:84,Training error:0.066784\n",
      "Epoch:85,Training error:0.066680\n",
      "Epoch:86,Training error:0.066710\n",
      "Epoch:87,Training error:0.066861\n",
      "Epoch:88,Training error:0.066771\n",
      "Epoch:89,Training error:0.066862\n",
      "Epoch:90,Training error:0.066876\n",
      "Epoch:91,Training error:0.066910\n",
      "Epoch:92,Training error:0.066698\n",
      "Epoch:93,Training error:0.066718\n",
      "Epoch:94,Training error:0.066567\n",
      "Epoch:95,Training error:0.066571\n",
      "Epoch:96,Training error:0.066562\n",
      "Epoch:97,Training error:0.066502\n",
      "Epoch:98,Training error:0.066667\n",
      "Epoch:99,Training error:0.066523\n",
      "Epoch:100,Training error:0.066474\n",
      "Epoch:101,Training error:0.066580\n",
      "Epoch:102,Training error:0.066705\n",
      "Epoch:103,Training error:0.066700\n",
      "Epoch:104,Training error:0.066734\n",
      "Epoch:105,Training error:0.066535\n",
      "Epoch:106,Training error:0.066478\n",
      "Epoch:107,Training error:0.066480\n",
      "Epoch:108,Training error:0.066452\n",
      "Epoch:109,Training error:0.066346\n",
      "Epoch:110,Training error:0.066233\n",
      "Epoch:111,Training error:0.066243\n",
      "Epoch:112,Training error:0.066320\n",
      "Epoch:113,Training error:0.066251\n",
      "Epoch:114,Training error:0.066070\n",
      "Epoch:115,Training error:0.065957\n",
      "Epoch:116,Training error:0.065997\n",
      "Epoch:117,Training error:0.065976\n",
      "Epoch:118,Training error:0.066062\n",
      "Epoch:119,Training error:0.066221\n",
      "Epoch:120,Training error:0.066213\n",
      "Epoch:121,Training error:0.066161\n",
      "Epoch:122,Training error:0.066256\n",
      "Epoch:123,Training error:0.066173\n",
      "Epoch:124,Training error:0.066277\n",
      "Epoch:125,Training error:0.066060\n",
      "Epoch:126,Training error:0.065950\n",
      "Epoch:127,Training error:0.065907\n",
      "Epoch:128,Training error:0.066078\n",
      "Epoch:129,Training error:0.066135\n",
      "Epoch:130,Training error:0.066331\n",
      "Epoch:131,Training error:0.066227\n",
      "Epoch:132,Training error:0.066292\n",
      "Epoch:133,Training error:0.066225\n",
      "Epoch:134,Training error:0.066387\n",
      "Epoch:135,Training error:0.066180\n",
      "Epoch:136,Training error:0.066214\n",
      "Epoch:137,Training error:0.066087\n",
      "Epoch:138,Training error:0.065942\n",
      "Epoch:139,Training error:0.065857\n",
      "Epoch:140,Training error:0.065974\n",
      "Epoch:141,Training error:0.066107\n",
      "Epoch:142,Training error:0.066033\n",
      "Epoch:143,Training error:0.065890\n",
      "Epoch:144,Training error:0.065930\n",
      "Epoch:145,Training error:0.065946\n",
      "Epoch:146,Training error:0.065998\n",
      "Epoch:147,Training error:0.065911\n",
      "Epoch:148,Training error:0.065974\n",
      "Epoch:149,Training error:0.065815\n",
      "Epoch:150,Training error:0.065853\n",
      "Epoch:151,Training error:0.065726\n",
      "Epoch:152,Training error:0.065689\n",
      "Epoch:153,Training error:0.065629\n",
      "Epoch:154,Training error:0.065580\n",
      "Epoch:155,Training error:0.065613\n",
      "Epoch:156,Training error:0.065618\n",
      "Epoch:157,Training error:0.065710\n",
      "Epoch:158,Training error:0.065750\n",
      "Epoch:159,Training error:0.065886\n",
      "Epoch:160,Training error:0.066073\n",
      "Epoch:161,Training error:0.065868\n",
      "Epoch:162,Training error:0.065995\n",
      "Epoch:163,Training error:0.065834\n",
      "Epoch:164,Training error:0.065611\n",
      "Epoch:165,Training error:0.065628\n",
      "Epoch:166,Training error:0.065727\n",
      "Epoch:167,Training error:0.065755\n",
      "Epoch:168,Training error:0.065720\n",
      "Epoch:169,Training error:0.065789\n",
      "Epoch:170,Training error:0.065748\n",
      "Epoch:171,Training error:0.065830\n",
      "Epoch:172,Training error:0.065757\n",
      "Epoch:173,Training error:0.065779\n",
      "Epoch:174,Training error:0.065806\n",
      "Epoch:175,Training error:0.065740\n",
      "Epoch:176,Training error:0.065834\n",
      "Epoch:177,Training error:0.065842\n",
      "Epoch:178,Training error:0.065900\n",
      "Epoch:179,Training error:0.065923\n",
      "Epoch:180,Training error:0.065915\n",
      "Epoch:181,Training error:0.065965\n",
      "Epoch:182,Training error:0.066160\n",
      "Epoch:183,Training error:0.065834\n",
      "Epoch:184,Training error:0.065903\n",
      "Epoch:185,Training error:0.066045\n",
      "Epoch:186,Training error:0.066006\n",
      "Epoch:187,Training error:0.065879\n",
      "Epoch:188,Training error:0.065891\n",
      "Epoch:189,Training error:0.065810\n",
      "Epoch:190,Training error:0.065857\n",
      "Epoch:191,Training error:0.065919\n",
      "Epoch:192,Training error:0.065588\n",
      "Epoch:193,Training error:0.065464\n",
      "Epoch:194,Training error:0.065614\n",
      "Epoch:195,Training error:0.065547\n",
      "Epoch:196,Training error:0.065695\n",
      "Epoch:197,Training error:0.065614\n",
      "Epoch:198,Training error:0.065648\n",
      "Epoch:199,Training error:0.065609\n",
      "Epoch:200,Training error:0.065593\n",
      "Epoch:201,Training error:0.065541\n",
      "Epoch:202,Training error:0.065525\n",
      "Epoch:203,Training error:0.065389\n",
      "Epoch:204,Training error:0.065189\n",
      "Epoch:205,Training error:0.065432\n",
      "Epoch:206,Training error:0.065344\n",
      "Epoch:207,Training error:0.065396\n",
      "Epoch:208,Training error:0.065206\n",
      "Epoch:209,Training error:0.065321\n",
      "Epoch:210,Training error:0.065416\n",
      "Epoch:211,Training error:0.065423\n",
      "Epoch:212,Training error:0.065274\n",
      "Epoch:213,Training error:0.065380\n",
      "Epoch:214,Training error:0.065350\n",
      "Epoch:215,Training error:0.065436\n",
      "Epoch:216,Training error:0.065536\n",
      "Epoch:217,Training error:0.065553\n",
      "Epoch:218,Training error:0.065579\n",
      "Epoch:219,Training error:0.065573\n",
      "Epoch:220,Training error:0.065541\n",
      "Epoch:221,Training error:0.065518\n",
      "Epoch:222,Training error:0.065483\n",
      "Epoch:223,Training error:0.065527\n",
      "Epoch:224,Training error:0.065464\n",
      "Epoch:225,Training error:0.065461\n",
      "Epoch:226,Training error:0.065456\n",
      "Epoch:227,Training error:0.065373\n",
      "Epoch:228,Training error:0.065322\n",
      "Epoch:229,Training error:0.065401\n",
      "Epoch:230,Training error:0.065309\n",
      "Epoch:231,Training error:0.065389\n",
      "Epoch:232,Training error:0.065400\n",
      "Epoch:233,Training error:0.065365\n",
      "Epoch:234,Training error:0.065430\n",
      "Epoch:235,Training error:0.065477\n",
      "Epoch:236,Training error:0.065377\n",
      "Epoch:237,Training error:0.065146\n",
      "Epoch:238,Training error:0.065238\n",
      "Epoch:239,Training error:0.065263\n",
      "Epoch:240,Training error:0.064977\n",
      "Epoch:241,Training error:0.065068\n",
      "Epoch:242,Training error:0.065019\n",
      "Epoch:243,Training error:0.065044\n",
      "Epoch:244,Training error:0.064929\n"
     ]
    },
    {
     "name": "stdout",
     "output_type": "stream",
     "text": [
      "Epoch:245,Training error:0.064938\n",
      "Epoch:246,Training error:0.064838\n",
      "Epoch:247,Training error:0.064919\n",
      "Epoch:248,Training error:0.065023\n",
      "Epoch:249,Training error:0.064886\n",
      "Epoch:250,Training error:0.064927\n",
      "Epoch:251,Training error:0.064912\n",
      "Epoch:252,Training error:0.064799\n",
      "Epoch:253,Training error:0.064749\n",
      "Epoch:254,Training error:0.064864\n",
      "Epoch:255,Training error:0.064805\n",
      "Epoch:256,Training error:0.064797\n",
      "Epoch:257,Training error:0.064749\n",
      "Epoch:258,Training error:0.064812\n",
      "Epoch:259,Training error:0.064783\n",
      "Epoch:260,Training error:0.064978\n",
      "Epoch:261,Training error:0.064883\n",
      "Epoch:262,Training error:0.064827\n",
      "Epoch:263,Training error:0.064648\n",
      "Epoch:264,Training error:0.064947\n",
      "Epoch:265,Training error:0.064688\n",
      "Epoch:266,Training error:0.064671\n",
      "Epoch:267,Training error:0.064737\n",
      "Epoch:268,Training error:0.064798\n",
      "Epoch:269,Training error:0.064642\n",
      "Epoch:270,Training error:0.064469\n",
      "Epoch:271,Training error:0.064462\n",
      "Epoch:272,Training error:0.064452\n",
      "Epoch:273,Training error:0.064641\n",
      "Epoch:274,Training error:0.064570\n",
      "Epoch:275,Training error:0.064562\n",
      "Epoch:276,Training error:0.064516\n",
      "Epoch:277,Training error:0.064554\n",
      "Epoch:278,Training error:0.064603\n",
      "Epoch:279,Training error:0.064610\n",
      "Epoch:280,Training error:0.064593\n",
      "Epoch:281,Training error:0.064523\n",
      "Epoch:282,Training error:0.064559\n",
      "Epoch:283,Training error:0.064723\n",
      "Epoch:284,Training error:0.064679\n",
      "Epoch:285,Training error:0.064524\n",
      "Epoch:286,Training error:0.064372\n",
      "Epoch:287,Training error:0.064473\n",
      "Epoch:288,Training error:0.064397\n",
      "Epoch:289,Training error:0.064392\n",
      "Epoch:290,Training error:0.064557\n",
      "Epoch:291,Training error:0.064563\n",
      "Epoch:292,Training error:0.064432\n",
      "Epoch:293,Training error:0.064368\n",
      "Epoch:294,Training error:0.064456\n",
      "Epoch:295,Training error:0.064415\n",
      "Epoch:296,Training error:0.064177\n",
      "Epoch:297,Training error:0.064380\n",
      "Epoch:298,Training error:0.064263\n",
      "Epoch:299,Training error:0.064332\n",
      "Epoch:300,Training error:0.064170\n",
      "Epoch:301,Training error:0.064149\n",
      "Epoch:302,Training error:0.064156\n",
      "Epoch:303,Training error:0.064126\n",
      "Epoch:304,Training error:0.064194\n",
      "Epoch:305,Training error:0.064261\n",
      "Epoch:306,Training error:0.064317\n",
      "Epoch:307,Training error:0.064340\n",
      "Epoch:308,Training error:0.064193\n",
      "Epoch:309,Training error:0.064149\n",
      "Epoch:310,Training error:0.064103\n",
      "Epoch:311,Training error:0.064017\n",
      "Epoch:312,Training error:0.064061\n",
      "Epoch:313,Training error:0.063942\n",
      "Epoch:314,Training error:0.063976\n",
      "Epoch:315,Training error:0.063825\n",
      "Epoch:316,Training error:0.063804\n",
      "Epoch:317,Training error:0.063957\n",
      "Epoch:318,Training error:0.064058\n",
      "Epoch:319,Training error:0.064018\n",
      "Epoch:320,Training error:0.064163\n",
      "Epoch:321,Training error:0.064082\n",
      "Epoch:322,Training error:0.064020\n",
      "Epoch:323,Training error:0.063931\n",
      "Epoch:324,Training error:0.064157\n",
      "Epoch:325,Training error:0.064148\n",
      "Epoch:326,Training error:0.064093\n",
      "Epoch:327,Training error:0.064131\n",
      "Epoch:328,Training error:0.063972\n",
      "Epoch:329,Training error:0.063900\n",
      "Epoch:330,Training error:0.063972\n",
      "Epoch:331,Training error:0.064063\n",
      "Epoch:332,Training error:0.063962\n",
      "Epoch:333,Training error:0.064075\n",
      "Epoch:334,Training error:0.064104\n",
      "Epoch:335,Training error:0.064070\n",
      "Epoch:336,Training error:0.064020\n",
      "Epoch:337,Training error:0.063922\n",
      "Epoch:338,Training error:0.063954\n",
      "Epoch:339,Training error:0.063965\n",
      "Epoch:340,Training error:0.063919\n",
      "Epoch:341,Training error:0.064087\n",
      "Epoch:342,Training error:0.064017\n",
      "Epoch:343,Training error:0.063886\n",
      "Epoch:344,Training error:0.063938\n",
      "Epoch:345,Training error:0.063892\n",
      "Epoch:346,Training error:0.063786\n",
      "Epoch:347,Training error:0.063936\n",
      "Epoch:348,Training error:0.063826\n",
      "Epoch:349,Training error:0.063766\n",
      "Epoch:350,Training error:0.063782\n",
      "Epoch:351,Training error:0.063629\n",
      "Epoch:352,Training error:0.063619\n",
      "Epoch:353,Training error:0.063637\n",
      "Epoch:354,Training error:0.063654\n",
      "Epoch:355,Training error:0.063633\n",
      "Epoch:356,Training error:0.063672\n",
      "Epoch:357,Training error:0.063494\n",
      "Epoch:358,Training error:0.063336\n",
      "Epoch:359,Training error:0.063643\n",
      "Epoch:360,Training error:0.063570\n",
      "Epoch:361,Training error:0.063595\n",
      "Epoch:362,Training error:0.063619\n",
      "Epoch:363,Training error:0.063602\n",
      "Epoch:364,Training error:0.063705\n",
      "Epoch:365,Training error:0.063645\n",
      "Epoch:366,Training error:0.063580\n",
      "Epoch:367,Training error:0.063713\n",
      "Epoch:368,Training error:0.063492\n",
      "Epoch:369,Training error:0.063882\n",
      "Epoch:370,Training error:0.063853\n",
      "Epoch:371,Training error:0.063957\n",
      "Epoch:372,Training error:0.063797\n",
      "Epoch:373,Training error:0.063650\n",
      "Epoch:374,Training error:0.063666\n",
      "Epoch:375,Training error:0.063672\n",
      "Epoch:376,Training error:0.063780\n",
      "Epoch:377,Training error:0.063766\n",
      "Epoch:378,Training error:0.063601\n",
      "Epoch:379,Training error:0.063681\n",
      "Epoch:380,Training error:0.063562\n",
      "Epoch:381,Training error:0.063571\n",
      "Epoch:382,Training error:0.063466\n",
      "Epoch:383,Training error:0.063526\n",
      "Epoch:384,Training error:0.063562\n",
      "Epoch:385,Training error:0.063641\n",
      "Epoch:386,Training error:0.063683\n",
      "Epoch:387,Training error:0.063652\n",
      "Epoch:388,Training error:0.063469\n",
      "Epoch:389,Training error:0.063551\n",
      "Epoch:390,Training error:0.063464\n",
      "Epoch:391,Training error:0.063586\n",
      "Epoch:392,Training error:0.063534\n",
      "Epoch:393,Training error:0.063568\n",
      "Epoch:394,Training error:0.063588\n",
      "Epoch:395,Training error:0.063584\n",
      "Epoch:396,Training error:0.063650\n",
      "Epoch:397,Training error:0.063585\n",
      "Epoch:398,Training error:0.063284\n",
      "Epoch:399,Training error:0.063297\n",
      "Epoch:400,Training error:0.063567\n",
      "Epoch:401,Training error:0.063627\n",
      "Epoch:402,Training error:0.063682\n",
      "Epoch:403,Training error:0.063816\n",
      "Epoch:404,Training error:0.063735\n",
      "Epoch:405,Training error:0.063528\n",
      "Epoch:406,Training error:0.063645\n",
      "Epoch:407,Training error:0.063413\n",
      "Epoch:408,Training error:0.063372\n",
      "Epoch:409,Training error:0.063503\n",
      "Epoch:410,Training error:0.063448\n",
      "Epoch:411,Training error:0.063483\n",
      "Epoch:412,Training error:0.063551\n",
      "Epoch:413,Training error:0.063448\n",
      "Epoch:414,Training error:0.063422\n",
      "Epoch:415,Training error:0.063355\n",
      "Epoch:416,Training error:0.063186\n",
      "Epoch:417,Training error:0.063356\n",
      "Epoch:418,Training error:0.063402\n",
      "Epoch:419,Training error:0.063376\n",
      "Epoch:420,Training error:0.063420\n",
      "Epoch:421,Training error:0.063471\n",
      "Epoch:422,Training error:0.063266\n",
      "Epoch:423,Training error:0.063264\n",
      "Epoch:424,Training error:0.063241\n",
      "Epoch:425,Training error:0.063432\n",
      "Epoch:426,Training error:0.063325\n",
      "Epoch:427,Training error:0.063303\n",
      "Epoch:428,Training error:0.063307\n",
      "Epoch:429,Training error:0.063192\n",
      "Epoch:430,Training error:0.063211\n",
      "Epoch:431,Training error:0.063185\n",
      "Epoch:432,Training error:0.063310\n",
      "Epoch:433,Training error:0.063249\n",
      "Epoch:434,Training error:0.063163\n",
      "Epoch:435,Training error:0.063232\n",
      "Epoch:436,Training error:0.063214\n",
      "Epoch:437,Training error:0.063215\n",
      "Epoch:438,Training error:0.063171\n",
      "Epoch:439,Training error:0.063251\n",
      "Epoch:440,Training error:0.063115\n",
      "Epoch:441,Training error:0.063303\n",
      "Epoch:442,Training error:0.063328\n",
      "Epoch:443,Training error:0.063181\n",
      "Epoch:444,Training error:0.063246\n",
      "Epoch:445,Training error:0.063366\n",
      "Epoch:446,Training error:0.063132\n",
      "Epoch:447,Training error:0.063140\n",
      "Epoch:448,Training error:0.063262\n",
      "Epoch:449,Training error:0.063322\n",
      "Epoch:450,Training error:0.063437\n",
      "Epoch:451,Training error:0.063452\n",
      "Epoch:452,Training error:0.063386\n",
      "Epoch:453,Training error:0.063319\n",
      "Epoch:454,Training error:0.063284\n",
      "Epoch:455,Training error:0.063165\n",
      "Epoch:456,Training error:0.063249\n",
      "Epoch:457,Training error:0.063425\n",
      "Epoch:458,Training error:0.063374\n",
      "Epoch:459,Training error:0.063327\n",
      "Epoch:460,Training error:0.063210\n",
      "Epoch:461,Training error:0.063101\n",
      "Epoch:462,Training error:0.063203\n",
      "Epoch:463,Training error:0.063268\n",
      "Epoch:464,Training error:0.063126\n",
      "Epoch:465,Training error:0.063062\n",
      "Epoch:466,Training error:0.063301\n",
      "Epoch:467,Training error:0.063105\n",
      "Epoch:468,Training error:0.063086\n",
      "Epoch:469,Training error:0.063302\n",
      "Epoch:470,Training error:0.063282\n",
      "Epoch:471,Training error:0.063259\n",
      "Epoch:472,Training error:0.063173\n",
      "Epoch:473,Training error:0.063211\n",
      "Epoch:474,Training error:0.063095\n",
      "Epoch:475,Training error:0.062853\n",
      "Epoch:476,Training error:0.063161\n",
      "Epoch:477,Training error:0.063107\n",
      "Epoch:478,Training error:0.063079\n",
      "Epoch:479,Training error:0.063177\n",
      "Epoch:480,Training error:0.063163\n",
      "Epoch:481,Training error:0.063268\n",
      "Epoch:482,Training error:0.063113\n",
      "Epoch:483,Training error:0.063095\n",
      "Epoch:484,Training error:0.063266\n",
      "Epoch:485,Training error:0.063126\n"
     ]
    },
    {
     "name": "stdout",
     "output_type": "stream",
     "text": [
      "Epoch:486,Training error:0.063330\n",
      "Epoch:487,Training error:0.063228\n",
      "Epoch:488,Training error:0.063179\n",
      "Epoch:489,Training error:0.063352\n",
      "Epoch:490,Training error:0.063485\n",
      "Epoch:491,Training error:0.063321\n",
      "Epoch:492,Training error:0.063254\n",
      "Epoch:493,Training error:0.063112\n",
      "Epoch:494,Training error:0.063085\n",
      "Epoch:495,Training error:0.063080\n",
      "Epoch:496,Training error:0.063356\n",
      "Epoch:497,Training error:0.063238\n",
      "Epoch:498,Training error:0.063117\n",
      "Epoch:499,Training error:0.063198\n",
      "Epoch:500,Training error:0.063311\n",
      "Epoch:501,Training error:0.063350\n",
      "Epoch:502,Training error:0.063313\n",
      "Epoch:503,Training error:0.063278\n",
      "Epoch:504,Training error:0.063190\n",
      "Epoch:505,Training error:0.063187\n",
      "Epoch:506,Training error:0.063091\n",
      "Epoch:507,Training error:0.063035\n",
      "Epoch:508,Training error:0.063002\n",
      "Epoch:509,Training error:0.063037\n",
      "Epoch:510,Training error:0.062961\n",
      "Epoch:511,Training error:0.063188\n",
      "Epoch:512,Training error:0.063319\n",
      "Epoch:513,Training error:0.063342\n",
      "Epoch:514,Training error:0.063216\n",
      "Epoch:515,Training error:0.063383\n",
      "Epoch:516,Training error:0.063282\n",
      "Epoch:517,Training error:0.063292\n",
      "Epoch:518,Training error:0.063384\n",
      "Epoch:519,Training error:0.063270\n",
      "Epoch:520,Training error:0.063429\n",
      "Epoch:521,Training error:0.063371\n",
      "Epoch:522,Training error:0.063423\n",
      "Epoch:523,Training error:0.063270\n",
      "Epoch:524,Training error:0.063153\n",
      "Epoch:525,Training error:0.063138\n",
      "Epoch:526,Training error:0.063311\n",
      "Epoch:527,Training error:0.063139\n",
      "Epoch:528,Training error:0.063077\n",
      "Epoch:529,Training error:0.063429\n",
      "Epoch:530,Training error:0.063328\n",
      "Epoch:531,Training error:0.063210\n",
      "Epoch:532,Training error:0.063182\n",
      "Epoch:533,Training error:0.063250\n",
      "Epoch:534,Training error:0.063083\n",
      "Epoch:535,Training error:0.063249\n",
      "Epoch:536,Training error:0.063286\n",
      "Epoch:537,Training error:0.063234\n",
      "Epoch:538,Training error:0.063119\n",
      "Epoch:539,Training error:0.063211\n",
      "Epoch:540,Training error:0.063041\n",
      "Epoch:541,Training error:0.063011\n",
      "Epoch:542,Training error:0.063127\n",
      "Epoch:543,Training error:0.063178\n",
      "Epoch:544,Training error:0.063247\n",
      "Epoch:545,Training error:0.063237\n",
      "Epoch:546,Training error:0.063096\n",
      "Epoch:547,Training error:0.063161\n",
      "Epoch:548,Training error:0.063022\n",
      "Epoch:549,Training error:0.063028\n",
      "Epoch:550,Training error:0.063095\n",
      "Epoch:551,Training error:0.063058\n",
      "Epoch:552,Training error:0.063113\n",
      "Epoch:553,Training error:0.063160\n",
      "Epoch:554,Training error:0.062995\n",
      "Epoch:555,Training error:0.063013\n",
      "Epoch:556,Training error:0.063039\n",
      "Epoch:557,Training error:0.063152\n",
      "Epoch:558,Training error:0.063123\n",
      "Epoch:559,Training error:0.063116\n",
      "Epoch:560,Training error:0.063193\n",
      "Epoch:561,Training error:0.063099\n",
      "Epoch:562,Training error:0.063059\n",
      "Epoch:563,Training error:0.063113\n",
      "Epoch:564,Training error:0.062952\n",
      "Epoch:565,Training error:0.062868\n",
      "Epoch:566,Training error:0.062999\n",
      "Epoch:567,Training error:0.063034\n",
      "Epoch:568,Training error:0.062931\n",
      "Epoch:569,Training error:0.063032\n",
      "Epoch:570,Training error:0.062963\n",
      "Epoch:571,Training error:0.062914\n",
      "Epoch:572,Training error:0.062874\n",
      "Epoch:573,Training error:0.063048\n",
      "Epoch:574,Training error:0.062969\n",
      "Epoch:575,Training error:0.063021\n",
      "Epoch:576,Training error:0.062870\n",
      "Epoch:577,Training error:0.062990\n",
      "Epoch:578,Training error:0.062921\n",
      "Epoch:579,Training error:0.062937\n",
      "Epoch:580,Training error:0.062991\n",
      "Epoch:581,Training error:0.062942\n",
      "Epoch:582,Training error:0.062885\n",
      "Epoch:583,Training error:0.062976\n",
      "Epoch:584,Training error:0.062878\n",
      "Epoch:585,Training error:0.062758\n",
      "Epoch:586,Training error:0.062743\n",
      "Epoch:587,Training error:0.062905\n",
      "Epoch:588,Training error:0.062987\n",
      "Epoch:589,Training error:0.062875\n",
      "Epoch:590,Training error:0.062956\n",
      "Epoch:591,Training error:0.062970\n",
      "Epoch:592,Training error:0.062862\n",
      "Epoch:593,Training error:0.062913\n",
      "Epoch:594,Training error:0.062887\n",
      "Epoch:595,Training error:0.062898\n",
      "Epoch:596,Training error:0.063005\n",
      "Epoch:597,Training error:0.063201\n",
      "Epoch:598,Training error:0.063113\n",
      "Epoch:599,Training error:0.063059\n"
     ]
    }
   ],
   "source": [
    "model = rbm.learn(training_data=new_data_train,test_data=new_data_test, learning_rate=0.01,epochs=600, CD_k=2, batch_size=50)"
   ]
  },
  {
   "cell_type": "code",
   "execution_count": 138,
   "metadata": {},
   "outputs": [
    {
     "data": {
      "text/plain": [
       "Text(0, 0.5, 'error')"
      ]
     },
     "execution_count": 138,
     "metadata": {},
     "output_type": "execute_result"
    },
    {
     "data": {
      "image/png": "[encoded data removed]",
      "text/plain": [
       "<Figure size 432x288 with 1 Axes>"
      ]
     },
     "metadata": {
      "needs_background": "light"
     },
     "output_type": "display_data"
    }
   ],
   "source": [
    "plt.plot(np.arange(600), rbm.error_history)\n",
    "plt.xlabel(\"Epochs\")\n",
    "plt.ylabel(\"error\")"
   ]
  },
  {
   "cell_type": "code",
   "execution_count": 139,
   "metadata": {},
   "outputs": [],
   "source": [
    "energy_data  = energy_batch(new_data_train, J=1, h=1)"
   ]
  },
  {
   "cell_type": "code",
   "execution_count": 140,
   "metadata": {},
   "outputs": [
    {
     "data": {
      "text/plain": [
       "8000"
      ]
     },
     "execution_count": 140,
     "metadata": {},
     "output_type": "execute_result"
    }
   ],
   "source": [
    "energy_data.size"
   ]
  },
  {
   "cell_type": "code",
   "execution_count": 141,
   "metadata": {},
   "outputs": [],
   "source": [
    "M = np.tile(energy_data,(energy_data.size,1))"
   ]
  },
  {
   "cell_type": "code",
   "execution_count": 142,
   "metadata": {},
   "outputs": [
    {
     "data": {
      "text/plain": [
       "(8000, 8000)"
      ]
     },
     "execution_count": 142,
     "metadata": {},
     "output_type": "execute_result"
    }
   ],
   "source": [
    "M.shape"
   ]
  },
  {
   "cell_type": "code",
   "execution_count": 143,
   "metadata": {},
   "outputs": [
    {
     "data": {
      "text/plain": [
       "array([[  0.,   6.,  -2., ...,  -6.,  -8., -10.],\n",
       "       [ -6.,   0.,  -8., ..., -12., -14., -16.],\n",
       "       [  2.,   8.,   0., ...,  -4.,  -6.,  -8.],\n",
       "       ...,\n",
       "       [  6.,  12.,   4., ...,   0.,  -2.,  -4.],\n",
       "       [  8.,  14.,   6., ...,   2.,   0.,  -2.],\n",
       "       [ 10.,  16.,   8., ...,   4.,   2.,   0.]])"
      ]
     },
     "execution_count": 143,
     "metadata": {},
     "output_type": "execute_result"
    }
   ],
   "source": [
    "M.T-M"
   ]
  },
  {
   "cell_type": "code",
   "execution_count": null,
   "metadata": {},
   "outputs": [],
   "source": []
  },
  {
   "cell_type": "code",
   "execution_count": null,
   "metadata": {},
   "outputs": [],
   "source": []
  },
  {
   "cell_type": "code",
   "execution_count": null,
   "metadata": {},
   "outputs": [],
   "source": []
  },
  {
   "cell_type": "code",
   "execution_count": null,
   "metadata": {},
   "outputs": [],
   "source": []
  },
  {
   "cell_type": "code",
   "execution_count": null,
   "metadata": {},
   "outputs": [],
   "source": []
  },
  {
   "cell_type": "code",
   "execution_count": null,
   "metadata": {},
   "outputs": [],
   "source": []
  },
  {
   "cell_type": "code",
   "execution_count": 144,
   "metadata": {},
   "outputs": [],
   "source": [
    "W_ij = rbm.W"
   ]
  },
  {
   "cell_type": "code",
   "execution_count": 145,
   "metadata": {},
   "outputs": [
    {
     "data": {
      "text/plain": [
       "(100, 80)"
      ]
     },
     "execution_count": 145,
     "metadata": {},
     "output_type": "execute_result"
    }
   ],
   "source": [
    "W_ij.shape"
   ]
  },
  {
   "cell_type": "code",
   "execution_count": 146,
   "metadata": {},
   "outputs": [
    {
     "data": {
      "text/plain": [
       "array([[ 0.    ,  0.    ,  0.    , ...,  0.0044,  0.    ,  0.    ],\n",
       "       [ 0.    , -0.0332,  0.    , ...,  0.    ,  0.    ,  0.    ],\n",
       "       [ 0.    ,  0.    ,  0.0624, ...,  0.    ,  0.    ,  0.    ],\n",
       "       ...,\n",
       "       [ 0.    ,  0.    ,  0.142 , ...,  0.2384, -0.1324, -0.094 ],\n",
       "       [-0.002 ,  0.2948,  0.    , ...,  0.    , -0.242 ,  0.    ],\n",
       "       [ 0.    ,  0.    ,  0.0416, ...,  0.    , -0.008 ,  0.    ]])"
      ]
     },
     "execution_count": 146,
     "metadata": {},
     "output_type": "execute_result"
    }
   ],
   "source": [
    "W_ij"
   ]
  },
  {
   "cell_type": "code",
   "execution_count": 147,
   "metadata": {},
   "outputs": [],
   "source": [
    "corr = np.corrcoef(W_ij.T)"
   ]
  },
  {
   "cell_type": "code",
   "execution_count": 148,
   "metadata": {},
   "outputs": [
    {
     "data": {
      "text/plain": [
       "array([ 1.00000000e+00,  5.11659735e-03,  6.73559159e-02, -2.02663003e-02,\n",
       "       -7.59260114e-03,  7.53110757e-03,  2.63382041e-02,  7.60554599e-03,\n",
       "        2.13468190e-02,  5.92726252e-02, -1.44954758e-02,  3.02841360e-02,\n",
       "        4.75129745e-03,  4.87681947e-03, -6.25250546e-02, -3.09896059e-01,\n",
       "        8.13737641e-02,  4.00335706e-03, -2.88779144e-02,  1.58148279e-02,\n",
       "       -2.79724563e-02, -1.22128261e-01, -3.59284839e-02, -3.07578976e-02,\n",
       "        3.77791734e-02,  2.80889534e-02,  3.04042394e-02,  2.62056510e-02,\n",
       "        1.63482065e-02,  3.06865592e-02,  2.30129253e-02,  2.12708037e-02,\n",
       "        2.15987100e-02, -1.52475242e-01, -3.28917602e-02,  1.19131237e-03,\n",
       "        2.25730282e-02,  1.85278494e-02, -1.85704642e-02, -1.94421267e-02,\n",
       "        8.50363036e-03, -4.61057391e-02,  1.86478507e-01,  2.14324529e-02,\n",
       "       -1.03542450e-01, -1.44172445e-01, -1.68789109e-02,  1.99938733e-02,\n",
       "       -2.28497148e-02, -6.69377933e-03, -4.67866212e-02,  5.23558160e-02,\n",
       "        3.44913672e-02, -3.33734870e-02, -9.17499341e-03,  3.45220708e-02,\n",
       "       -1.17181964e-02,  7.02681255e-03,  4.92745771e-02,  1.63906219e-02,\n",
       "        2.78930131e-02, -6.62344113e-02,  2.74607625e-02, -2.15187941e-02,\n",
       "        4.34042801e-02,  6.21892683e-02,  8.15605376e-03, -8.60833948e-03,\n",
       "        1.58460505e-02,  6.86408352e-02,  4.92062059e-02,  2.35986252e-02,\n",
       "       -3.18488932e-03,  1.27000546e-01,  3.84370151e-04, -4.20666619e-02,\n",
       "       -2.22075209e-02,  3.55138842e-02, -1.00494167e-02,  7.54031552e-02])"
      ]
     },
     "execution_count": 148,
     "metadata": {},
     "output_type": "execute_result"
    }
   ],
   "source": [
    "corr[0]"
   ]
  },
  {
   "cell_type": "code",
   "execution_count": 149,
   "metadata": {},
   "outputs": [],
   "source": [
    "random_w = np.random.randn(100, 50)"
   ]
  },
  {
   "cell_type": "code",
   "execution_count": 150,
   "metadata": {},
   "outputs": [
    {
     "data": {
      "text/plain": [
       "array([[-0.32974193, -1.04909943, -0.44800708, ..., -0.89701464,\n",
       "        -0.37495837, -1.448701  ],\n",
       "       [ 1.02383203, -0.95650429,  0.27360967, ..., -1.441449  ,\n",
       "         0.2160616 ,  0.68661107],\n",
       "       [-1.16516422,  1.28862169,  0.52298299, ...,  0.59280745,\n",
       "         1.30410499, -0.67242848],\n",
       "       ...,\n",
       "       [ 0.54314623,  1.43656888,  0.72248831, ...,  0.25672054,\n",
       "         0.51835177,  1.07533405],\n",
       "       [ 0.89780305, -0.70252618,  0.98743365, ..., -1.66289783,\n",
       "         1.2231888 , -0.30438547],\n",
       "       [-0.13380863,  0.50051007, -1.64016161, ...,  0.19777542,\n",
       "        -0.64280523,  0.14673906]])"
      ]
     },
     "execution_count": 150,
     "metadata": {},
     "output_type": "execute_result"
    }
   ],
   "source": [
    "random_w"
   ]
  },
  {
   "cell_type": "code",
   "execution_count": 151,
   "metadata": {},
   "outputs": [],
   "source": [
    "corr_random_w = np.corrcoef(random_w)"
   ]
  },
  {
   "cell_type": "code",
   "execution_count": 152,
   "metadata": {},
   "outputs": [
    {
     "data": {
      "text/plain": [
       "array([[ 1.        , -0.13942244, -0.13695312, ...,  0.0286112 ,\n",
       "         0.09935914, -0.02576265],\n",
       "       [-0.13942244,  1.        , -0.00827568, ..., -0.25263748,\n",
       "        -0.07303922, -0.12173049],\n",
       "       [-0.13695312, -0.00827568,  1.        , ...,  0.04136475,\n",
       "        -0.07643286,  0.00882486],\n",
       "       ...,\n",
       "       [ 0.0286112 , -0.25263748,  0.04136475, ...,  1.        ,\n",
       "         0.03472429, -0.06653617],\n",
       "       [ 0.09935914, -0.07303922, -0.07643286, ...,  0.03472429,\n",
       "         1.        ,  0.04472802],\n",
       "       [-0.02576265, -0.12173049,  0.00882486, ..., -0.06653617,\n",
       "         0.04472802,  1.        ]])"
      ]
     },
     "execution_count": 152,
     "metadata": {},
     "output_type": "execute_result"
    }
   ],
   "source": [
    "corr_random_w"
   ]
  },
  {
   "cell_type": "code",
   "execution_count": 153,
   "metadata": {},
   "outputs": [],
   "source": [
    "eigen_random_w = np.linalg.eig(corr_random_w)"
   ]
  },
  {
   "cell_type": "code",
   "execution_count": 154,
   "metadata": {},
   "outputs": [
    {
     "data": {
      "text/plain": [
       "[<matplotlib.lines.Line2D at 0x15aef4f28>]"
      ]
     },
     "execution_count": 154,
     "metadata": {},
     "output_type": "execute_result"
    },
    {
     "data": {
      "image/png": "[encoded data removed]",
      "text/plain": [
       "<Figure size 432x288 with 1 Axes>"
      ]
     },
     "metadata": {
      "needs_background": "light"
     },
     "output_type": "display_data"
    }
   ],
   "source": [
    "plt.plot(eigen_random_w[0])"
   ]
  },
  {
   "cell_type": "code",
   "execution_count": 155,
   "metadata": {},
   "outputs": [],
   "source": [
    "eigen = np.linalg.eig(corr)"
   ]
  },
  {
   "cell_type": "code",
   "execution_count": 162,
   "metadata": {},
   "outputs": [
    {
     "data": {
      "text/plain": [
       "array([2.61167051, 2.40029569, 2.24594231, 2.11259421, 2.06832837,\n",
       "       2.01938961, 1.89811202, 1.87215154, 1.86288989, 1.8327233 ,\n",
       "       1.77133355, 1.74721646, 1.72550091, 1.71316803, 1.66881721,\n",
       "       1.64054777, 1.61945294, 0.01197496, 0.02774056, 1.56323042,\n",
       "       0.04132702, 0.04904751, 1.54713917, 1.50473438, 0.07194035,\n",
       "       0.07818729, 0.0894019 , 0.11148248, 0.12398639, 1.47601082,\n",
       "       1.46357924, 0.1454633 , 0.16070324, 0.15453978, 0.19568293,\n",
       "       1.41781077, 0.22610668, 1.41338251, 0.25437149, 0.2735294 ,\n",
       "       1.38576061, 0.28817059, 0.31360501, 0.37161314, 1.34786823,\n",
       "       0.40330359, 1.33268104, 1.318927  , 0.4478773 , 0.44467298,\n",
       "       0.50465519, 1.26170625, 1.26557764, 0.53320569, 1.21401772,\n",
       "       1.18234728, 0.57098149, 1.16454303, 1.16022794, 0.65118   ,\n",
       "       0.63814146, 0.60751599, 0.74953104, 0.78051789, 0.72322305,\n",
       "       0.81166532, 1.11326568, 0.61255953, 0.86410007, 0.91634806,\n",
       "       1.10644365, 1.04283108, 0.94440268, 0.69915851, 1.09561668,\n",
       "       1.08364561, 0.87707835, 0.98367385, 1.00812095, 0.96773192])"
      ]
     },
     "execution_count": 162,
     "metadata": {},
     "output_type": "execute_result"
    }
   ],
   "source": [
    "eigen[0]"
   ]
  },
  {
   "cell_type": "code",
   "execution_count": 161,
   "metadata": {},
   "outputs": [
    {
     "data": {
      "text/plain": [
       "[<matplotlib.lines.Line2D at 0x15b363eb8>]"
      ]
     },
     "execution_count": 161,
     "metadata": {},
     "output_type": "execute_result"
    },
    {
     "data": {
      "image/png": "[encoded data removed]",
      "text/plain": [
       "<Figure size 432x288 with 1 Axes>"
      ]
     },
     "metadata": {
      "needs_background": "light"
     },
     "output_type": "display_data"
    }
   ],
   "source": [
    "plt.plot(eigen[0])"
   ]
  },
  {
   "cell_type": "code",
   "execution_count": 160,
   "metadata": {},
   "outputs": [
    {
     "data": {
      "text/plain": [
       "Text(0.5, 0, 'data_energy')"
      ]
     },
     "execution_count": 160,
     "metadata": {},
     "output_type": "execute_result"
    },
    {
     "data": {
      "image/png": "[encoded data removed]",
      "text/plain": [
       "<Figure size 432x288 with 1 Axes>"
      ]
     },
     "metadata": {
      "needs_background": "light"
     },
     "output_type": "display_data"
    }
   ],
   "source": [
    "plt.scatter(data_energy_train, recons_energy)\n",
    "plt.ylabel(\"$recons_energy$\")\n",
    "plt.xlabel(\"data_energy\")"
   ]
  },
  {
   "cell_type": "code",
   "execution_count": 76,
   "metadata": {},
   "outputs": [
    {
     "data": {
      "text/plain": [
       "array([0., 0., 0., 0., 0., 0., 0., 0., 0., 0., 0., 0., 0., 0., 0., 0., 0.,\n",
       "       0., 0., 0., 0., 0., 0., 0., 0., 0., 0., 0., 0., 0., 0., 0., 0., 0.,\n",
       "       0., 0., 0., 0., 0., 0., 0., 0., 0., 0., 0., 0., 0., 0., 0., 0., 0.,\n",
       "       0., 0., 0., 0., 0., 0., 0., 0., 0., 0., 0., 0., 0., 0., 0., 0., 0.,\n",
       "       0., 0., 0., 0., 0., 0., 0., 0., 0., 0., 0., 0., 0., 0., 0., 0., 0.,\n",
       "       0., 0., 0., 0., 0., 0., 0., 0., 0., 0., 0., 0., 0., 0., 0.])"
      ]
     },
     "execution_count": 76,
     "metadata": {},
     "output_type": "execute_result"
    }
   ],
   "source": [
    "np.zeros(100)"
   ]
  },
  {
   "cell_type": "code",
   "execution_count": 77,
   "metadata": {},
   "outputs": [],
   "source": [
    "n1 =  np.random.randint(10,30)\n",
    "a  = np.zeros(100)\n",
    "a[:n1]=1"
   ]
  },
  {
   "cell_type": "code",
   "execution_count": 78,
   "metadata": {},
   "outputs": [
    {
     "data": {
      "text/plain": [
       "array([1., 1., 1., 1., 1., 1., 1., 1., 1., 1., 1., 1., 1., 1., 1., 1., 1.,\n",
       "       1., 1., 1., 1., 1., 1., 1., 1., 0., 0., 0., 0., 0., 0., 0., 0., 0.,\n",
       "       0., 0., 0., 0., 0., 0., 0., 0., 0., 0., 0., 0., 0., 0., 0., 0., 0.,\n",
       "       0., 0., 0., 0., 0., 0., 0., 0., 0., 0., 0., 0., 0., 0., 0., 0., 0.,\n",
       "       0., 0., 0., 0., 0., 0., 0., 0., 0., 0., 0., 0., 0., 0., 0., 0., 0.,\n",
       "       0., 0., 0., 0., 0., 0., 0., 0., 0., 0., 0., 0., 0., 0., 0.])"
      ]
     },
     "execution_count": 78,
     "metadata": {},
     "output_type": "execute_result"
    }
   ],
   "source": [
    "a"
   ]
  },
  {
   "cell_type": "code",
   "execution_count": 79,
   "metadata": {},
   "outputs": [
    {
     "data": {
      "text/plain": [
       "(100,)"
      ]
     },
     "execution_count": 79,
     "metadata": {},
     "output_type": "execute_result"
    }
   ],
   "source": [
    "a.shape"
   ]
  },
  {
   "cell_type": "code",
   "execution_count": 80,
   "metadata": {},
   "outputs": [
    {
     "name": "stdout",
     "output_type": "stream",
     "text": [
      "24\n",
      "42\n"
     ]
    }
   ],
   "source": [
    "weights = []\n",
    "for i in range(2):\n",
    "    n1 =  np.random.randint(10,60)\n",
    "    print(n1)\n",
    "    a  = np.zeros(100)\n",
    "    a[:n1] = 1\n",
    "    weights.append(a)\n",
    "    "
   ]
  },
  {
   "cell_type": "code",
   "execution_count": 81,
   "metadata": {},
   "outputs": [
    {
     "data": {
      "text/plain": [
       "[array([1., 1., 1., 1., 1., 1., 1., 1., 1., 1., 1., 1., 1., 1., 1., 1., 1.,\n",
       "        1., 1., 1., 1., 1., 1., 1., 0., 0., 0., 0., 0., 0., 0., 0., 0., 0.,\n",
       "        0., 0., 0., 0., 0., 0., 0., 0., 0., 0., 0., 0., 0., 0., 0., 0., 0.,\n",
       "        0., 0., 0., 0., 0., 0., 0., 0., 0., 0., 0., 0., 0., 0., 0., 0., 0.,\n",
       "        0., 0., 0., 0., 0., 0., 0., 0., 0., 0., 0., 0., 0., 0., 0., 0., 0.,\n",
       "        0., 0., 0., 0., 0., 0., 0., 0., 0., 0., 0., 0., 0., 0., 0.]),\n",
       " array([1., 1., 1., 1., 1., 1., 1., 1., 1., 1., 1., 1., 1., 1., 1., 1., 1.,\n",
       "        1., 1., 1., 1., 1., 1., 1., 1., 1., 1., 1., 1., 1., 1., 1., 1., 1.,\n",
       "        1., 1., 1., 1., 1., 1., 1., 1., 0., 0., 0., 0., 0., 0., 0., 0., 0.,\n",
       "        0., 0., 0., 0., 0., 0., 0., 0., 0., 0., 0., 0., 0., 0., 0., 0., 0.,\n",
       "        0., 0., 0., 0., 0., 0., 0., 0., 0., 0., 0., 0., 0., 0., 0., 0., 0.,\n",
       "        0., 0., 0., 0., 0., 0., 0., 0., 0., 0., 0., 0., 0., 0., 0.])]"
      ]
     },
     "execution_count": 81,
     "metadata": {},
     "output_type": "execute_result"
    }
   ],
   "source": [
    "weights"
   ]
  },
  {
   "cell_type": "code",
   "execution_count": 82,
   "metadata": {},
   "outputs": [],
   "source": [
    "NV = []\n",
    "n1 = np.random.randint(10,30)\n",
    "a  = np.zeros(100)\n",
    "a[:n1] = 1\n",
    "NV.append(a)\n"
   ]
  },
  {
   "cell_type": "code",
   "execution_count": 83,
   "metadata": {},
   "outputs": [
    {
     "data": {
      "text/plain": [
       "[array([1., 1., 1., 1., 1., 1., 1., 1., 1., 1., 1., 1., 1., 1., 1., 1., 1.,\n",
       "        0., 0., 0., 0., 0., 0., 0., 0., 0., 0., 0., 0., 0., 0., 0., 0., 0.,\n",
       "        0., 0., 0., 0., 0., 0., 0., 0., 0., 0., 0., 0., 0., 0., 0., 0., 0.,\n",
       "        0., 0., 0., 0., 0., 0., 0., 0., 0., 0., 0., 0., 0., 0., 0., 0., 0.,\n",
       "        0., 0., 0., 0., 0., 0., 0., 0., 0., 0., 0., 0., 0., 0., 0., 0., 0.,\n",
       "        0., 0., 0., 0., 0., 0., 0., 0., 0., 0., 0., 0., 0., 0., 0.])]"
      ]
     },
     "execution_count": 83,
     "metadata": {},
     "output_type": "execute_result"
    }
   ],
   "source": [
    "NV"
   ]
  },
  {
   "cell_type": "code",
   "execution_count": null,
   "metadata": {},
   "outputs": [],
   "source": []
  }
 ],
 "metadata": {
  "kernelspec": {
   "display_name": "Python 3",
   "language": "python",
   "name": "python3"
  },
  "language_info": {
   "codemirror_mode": {
    "name": "ipython",
    "version": 3
   },
   "file_extension": ".py",
   "mimetype": "text/x-python",
   "name": "python",
   "nbconvert_exporter": "python",
   "pygments_lexer": "ipython3",
   "version": "3.7.3"
  }
 },
 "nbformat": 4,
 "nbformat_minor": 2
}
