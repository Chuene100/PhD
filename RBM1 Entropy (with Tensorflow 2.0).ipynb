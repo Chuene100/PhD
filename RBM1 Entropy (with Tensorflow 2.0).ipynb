{
 "cells": [
  {
   "cell_type": "code",
   "execution_count": 180,
   "metadata": {},
   "outputs": [],
   "source": [
    "import tensorflow as tf\n",
    "import numpy as np\n",
    "import matplotlib.pyplot as plt"
   ]
  },
  {
   "cell_type": "markdown",
   "metadata": {},
   "source": [
    "In this notebook, we show how the Restricted Boltzmann Machine (RBM) update its parameters by minimizing the Log-likelihood and we minimise the cross-entropy as a loss function.\n",
    "\n",
    "The first function in this notebook shows the minimizaion of the Log-likelihood. The second function shows the minimization of the cross-entropy.\n",
    "\n",
    "TensorFlow has been employed for further minimizations."
   ]
  },
  {
   "cell_type": "markdown",
   "metadata": {},
   "source": [
    "# Log-likelihood"
   ]
  },
  {
   "cell_type": "code",
   "execution_count": 181,
   "metadata": {},
   "outputs": [],
   "source": [
    "class RBM(object):\n",
    "    def __init__(self, vis_unit, hidd_unit,temps=tf.constant(1)):\n",
    "        self.vis_unit = vis_unit\n",
    "        self.hidd_unit = hidd_unit\n",
    "        self.temps=temps\n",
    "        \n",
    "        #Initialise the parameters\n",
    "        self.W = tf.random.uniform([self.vis_unit, self.hidd_unit],0,1)\n",
    "        \n",
    "        \n",
    "        self.W_mask = []\n",
    "        for i in range(self.hidd_unit):\n",
    "            n1 = np.random.randint(20,40)\n",
    "            a = np.zeros(self.vis_unit)\n",
    "            a[:n1] = 1\n",
    "            np.random.shuffle(a)\n",
    "            self.W_mask.append(a)\n",
    "        self.W_mask = np.array(self.W_mask).T\n",
    "        self.W_mask=(self.W_mask==1)\n",
    "        #print(self.W_mask.shape)\n",
    "        #print(self.W.shape)\n",
    "        self.W=0.01*self.W_mask\n",
    "        self.W = tf.convert_to_tensor(self.W, dtype=tf.float32)\n",
    "        \n",
    "        \n",
    "################################################ Updating Parameters ##########################################        \n",
    "    \n",
    "    \n",
    "    #Derivative of the log probability\n",
    "    def VH(self, vis, hid):\n",
    "        shvd = tf.tensordot(vis, tf.transpose(hid), axes=1)\n",
    "        return shvd\n",
    "        \n",
    "   \n",
    "    # Upgrade the gradient\n",
    "    def W_Update(self, vis):\n",
    "        #Positive phase\n",
    "        hid=self.forward_pass(vis)\n",
    "        der_W1 =self.VH(vis ,hid) \n",
    "    \n",
    "        #Negative phase\n",
    "        vis_r = self.reconstruction(self.CD_k, vis)\n",
    "        hid_r= self.forward_pass(vis_r)\n",
    "        der_W2 = self.VH(vis_r, hid_r)\n",
    "        der_W=-der_W2+der_W1\n",
    "        \n",
    "        #Updating the parameters\n",
    "        self.W = self.W + self.learning_rate * der_W/vis.shape[1]\n",
    "        \n",
    "\n",
    "########################################### Reconstruction ####################################################       \n",
    "        \n",
    "     #Calculate the hidden states\n",
    "    def forward_pass(self, vis):\n",
    "        X = tf.tensordot(tf.transpose(self.W), vis, axes=1)\n",
    "        p_h = 1.0/(1.0 + tf.exp(-2*X))\n",
    "        hid = 2*tf.cast(p_h>tf.random.uniform([self.hidd_unit,vis.shape[1]],0,1),tf.float32)-1\n",
    "        #hid = tf.nn.sigmoid(X)\n",
    "        return  hid          \n",
    "            \n",
    "    # Reconstruct the visible states\n",
    "    def backward_pass(self, hid):\n",
    "        X = tf.tensordot(self.W, hid, axes=1)\n",
    "        p_v = 1.0/(1.0+tf.exp(-2*X))\n",
    "        v_r = 2*tf.cast(p_v>tf.random.uniform([self.vis_unit,hid.shape[1]],0,1),tf.float32)-1\n",
    "        #v_r = tf.nn.sigmoid(X)\n",
    "        return v_r\n",
    "            \n",
    "    # Perform Gibbs Sampling\n",
    "    def reconstruction(self, steps, vis):\n",
    "        vis_r=vis\n",
    "        for i in tf.range(steps):\n",
    "            hid = self.forward_pass(vis_r)\n",
    "            vis_r = self.backward_pass(hid)\n",
    "        return vis_r\n",
    "    \n",
    "############################################# Training ########################################################\n",
    "\n",
    "    #Training Model\n",
    "    def learn(self, training_data, learning_rate=0.01, epochs=10, batch_size=1, CD_k=1):\n",
    "        self.learning_rate = learning_rate\n",
    "        self.epochs = epochs\n",
    "        self.batch_size = batch_size\n",
    "        self.CD_k = CD_k\n",
    "        \n",
    "        num_batches = int(training_data.shape[0]/self.batch_size)\n",
    "        self.error_history = tf.zeros(self.epochs).numpy()\n",
    "        \n",
    "        \n",
    "        for k in range(self.epochs):\n",
    "            error = 0\n",
    "            for b in range(0, num_batches):\n",
    "                batch = training_data[int(b*self.batch_size):int((b+1)*self.batch_size)]\n",
    "                vis=tf.cast(tf.transpose(batch),tf.float32)\n",
    "                self.W_Update(vis)\n",
    "                samples = self.reconstruction(1, vis)\n",
    "                error+=0.25*tf.reduce_sum(tf.square(vis-samples))/tf.cast(tf.reduce_prod(vis.shape),tf.float32)\n",
    "            error = error/num_batches\n",
    "            self.error_history[k] = error\n",
    "            print('Epoch:%d,Training error:%f'%(k, error))\n",
    "\n"
   ]
  },
  {
   "cell_type": "code",
   "execution_count": 182,
   "metadata": {},
   "outputs": [],
   "source": [
    "training_data = np.loadtxt('/Users/chuene/Documents/PhD/Pallab/filename.txt')\n",
    "data = training_data.reshape(10000,100)\n",
    "new_data = data[1000:,:]\n",
    "new_data_train = new_data[:8000]"
   ]
  },
  {
   "cell_type": "code",
   "execution_count": 183,
   "metadata": {
    "scrolled": true
   },
   "outputs": [
    {
     "name": "stdout",
     "output_type": "stream",
     "text": [
      "Epoch:0,Training error:0.382448\n",
      "Epoch:1,Training error:0.300578\n",
      "Epoch:2,Training error:0.267681\n",
      "Epoch:3,Training error:0.249531\n",
      "Epoch:4,Training error:0.236746\n",
      "Epoch:5,Training error:0.228295\n",
      "Epoch:6,Training error:0.220994\n",
      "Epoch:7,Training error:0.215634\n",
      "Epoch:8,Training error:0.211525\n",
      "Epoch:9,Training error:0.208054\n",
      "Epoch:10,Training error:0.205036\n",
      "Epoch:11,Training error:0.203300\n",
      "Epoch:12,Training error:0.200924\n",
      "Epoch:13,Training error:0.200460\n",
      "Epoch:14,Training error:0.198159\n",
      "Epoch:15,Training error:0.197049\n",
      "Epoch:16,Training error:0.195705\n",
      "Epoch:17,Training error:0.195395\n",
      "Epoch:18,Training error:0.194458\n",
      "Epoch:19,Training error:0.193795\n",
      "Epoch:20,Training error:0.192426\n",
      "Epoch:21,Training error:0.192334\n",
      "Epoch:22,Training error:0.191320\n",
      "Epoch:23,Training error:0.191139\n",
      "Epoch:24,Training error:0.191406\n",
      "Epoch:25,Training error:0.190156\n",
      "Epoch:26,Training error:0.190825\n",
      "Epoch:27,Training error:0.189234\n",
      "Epoch:28,Training error:0.189554\n",
      "Epoch:29,Training error:0.188509\n",
      "Epoch:30,Training error:0.188969\n",
      "Epoch:31,Training error:0.188574\n",
      "Epoch:32,Training error:0.187872\n",
      "Epoch:33,Training error:0.188006\n",
      "Epoch:34,Training error:0.187899\n",
      "Epoch:35,Training error:0.187511\n",
      "Epoch:36,Training error:0.187814\n",
      "Epoch:37,Training error:0.187254\n",
      "Epoch:38,Training error:0.187102\n",
      "Epoch:39,Training error:0.186435\n",
      "Epoch:40,Training error:0.186786\n",
      "Epoch:41,Training error:0.186169\n",
      "Epoch:42,Training error:0.184918\n",
      "Epoch:43,Training error:0.186620\n",
      "Epoch:44,Training error:0.185418\n",
      "Epoch:45,Training error:0.185424\n",
      "Epoch:46,Training error:0.185630\n",
      "Epoch:47,Training error:0.186201\n",
      "Epoch:48,Training error:0.185480\n",
      "Epoch:49,Training error:0.185841\n",
      "Epoch:50,Training error:0.184292\n",
      "Epoch:51,Training error:0.185017\n",
      "Epoch:52,Training error:0.183900\n",
      "Epoch:53,Training error:0.184950\n",
      "Epoch:54,Training error:0.184545\n",
      "Epoch:55,Training error:0.184803\n",
      "Epoch:56,Training error:0.184375\n",
      "Epoch:57,Training error:0.184606\n",
      "Epoch:58,Training error:0.184523\n",
      "Epoch:59,Training error:0.184661\n",
      "Epoch:60,Training error:0.183770\n",
      "Epoch:61,Training error:0.183868\n",
      "Epoch:62,Training error:0.183651\n",
      "Epoch:63,Training error:0.183903\n",
      "Epoch:64,Training error:0.184086\n",
      "Epoch:65,Training error:0.183922\n",
      "Epoch:66,Training error:0.183013\n",
      "Epoch:67,Training error:0.183584\n",
      "Epoch:68,Training error:0.183214\n",
      "Epoch:69,Training error:0.182725\n",
      "Epoch:70,Training error:0.184001\n",
      "Epoch:71,Training error:0.183668\n",
      "Epoch:72,Training error:0.183409\n",
      "Epoch:73,Training error:0.183635\n",
      "Epoch:74,Training error:0.183548\n",
      "Epoch:75,Training error:0.183057\n",
      "Epoch:76,Training error:0.182594\n",
      "Epoch:77,Training error:0.182753\n",
      "Epoch:78,Training error:0.183128\n",
      "Epoch:79,Training error:0.183091\n",
      "Epoch:80,Training error:0.183502\n",
      "Epoch:81,Training error:0.182819\n",
      "Epoch:82,Training error:0.182031\n",
      "Epoch:83,Training error:0.182920\n",
      "Epoch:84,Training error:0.183114\n",
      "Epoch:85,Training error:0.182651\n",
      "Epoch:86,Training error:0.182754\n",
      "Epoch:87,Training error:0.182594\n",
      "Epoch:88,Training error:0.182824\n",
      "Epoch:89,Training error:0.182562\n",
      "Epoch:90,Training error:0.182525\n",
      "Epoch:91,Training error:0.183087\n",
      "Epoch:92,Training error:0.182191\n",
      "Epoch:93,Training error:0.182276\n",
      "Epoch:94,Training error:0.183104\n",
      "Epoch:95,Training error:0.182735\n",
      "Epoch:96,Training error:0.182511\n",
      "Epoch:97,Training error:0.182624\n",
      "Epoch:98,Training error:0.183365\n",
      "Epoch:99,Training error:0.183210\n"
     ]
    },
    {
     "data": {
      "text/plain": [
       "Text(0, 0.5, 'Error')"
      ]
     },
     "execution_count": 183,
     "metadata": {},
     "output_type": "execute_result"
    },
    {
     "data": {
      "image/png": "[encoded data removed]",
      "text/plain": [
       "<Figure size 432x288 with 1 Axes>"
      ]
     },
     "metadata": {
      "needs_background": "light"
     },
     "output_type": "display_data"
    }
   ],
   "source": [
    "rbm1  = RBM(vis_unit = 100, hidd_unit=20)\n",
    "model = rbm1.learn(training_data=new_data_train, learning_rate=0.01,epochs=100, CD_k=1, batch_size=50)\n",
    "\n",
    "plt.plot(np.arange(100), rbm1.error_history)\n",
    "plt.xlabel(\"Epochs\")\n",
    "plt.ylabel(\"Error\")"
   ]
  },
  {
   "cell_type": "markdown",
   "metadata": {},
   "source": [
    "# Cross-Entropy"
   ]
  },
  {
   "cell_type": "code",
   "execution_count": 175,
   "metadata": {},
   "outputs": [],
   "source": [
    "class RBM(object):\n",
    "    def __init__(self, vis_unit, hidd_unit,temps=tf.constant(1)):\n",
    "        self.vis_unit = vis_unit\n",
    "        self.hidd_unit = hidd_unit\n",
    "        self.temps=temps\n",
    "        \n",
    "        #Initialise the parameters\n",
    "        self.W = tf.random.uniform([self.vis_unit, self.hidd_unit],0,1)\n",
    "        \n",
    "################################################ Updating Parameters ##########################################        \n",
    "    \n",
    "    \n",
    "    #Derivative of the log probability\n",
    "    def VH(self, vis,hid):\n",
    "        shvd = tf.tensordot(vis,tf.transpose(hid),axes=1)\n",
    "        return shvd\n",
    "        \n",
    "   \n",
    "    # Upgrade the gradient\n",
    "    def W_Update(self, vis):\n",
    "        #Positive phase\n",
    "        hid=self.forward_pass(vis)\n",
    "        der_W1 =self.VH(vis,hid) \n",
    "    \n",
    "        #Negative phase\n",
    "        vis_r  = self.reconstruction(self.CD_k, vis)\n",
    "        hid_r  = self.forward_pass(vis_r)\n",
    "        der_W2 = self.VH(vis_r,hid_r)\n",
    "        der_W  = -self.vis_unit*der_W2 + self.vis_unit*der_W1\n",
    "        \n",
    "        #Updating the parameters\n",
    "        self.W = self.W + self.learning_rate * der_W/vis.shape[1]\n",
    "        \n",
    "\n",
    "########################################### Reconstruction ####################################################       \n",
    "        \n",
    "     #Calculate the hidden states\n",
    "    def forward_pass(self, vis):\n",
    "        X = tf.tensordot(tf.transpose(self.W), vis, axes=1)\n",
    "        p_h = 1.0/(1.0+tf.exp(-X))\n",
    "        hid = 2*tf.cast(p_h>tf.random.uniform([self.hidd_unit, vis.shape[1]],0,1),tf.float32)-1\n",
    "        #hid = tf.nn.sigmoid(X)\n",
    "        return  hid          \n",
    "            \n",
    "    # Reconstruct the visible states\n",
    "    def backward_pass(self, hid):\n",
    "        X = tf.tensordot(self.W, hid, axes=1)\n",
    "        p_v = 1.0/(1.0+tf.exp(-X))\n",
    "        v_r = 2*tf.cast(p_v>tf.random.uniform([self.vis_unit,hid.shape[1]],0,1),tf.float32)-1\n",
    "        #v_r = tf.nn.sigmoid(X)\n",
    "        return v_r\n",
    "            \n",
    "    # Perform Gibbs Sampling\n",
    "    def reconstruction(self, steps, vis):\n",
    "        vis_r=vis\n",
    "        for i in tf.range(steps):\n",
    "            hid = self.forward_pass(vis_r)\n",
    "            vis_r = self.backward_pass(hid)\n",
    "        return vis_r\n",
    "    \n",
    "############################################# Training ########################################################\n",
    "\n",
    "    #Training Model\n",
    "    def learn(self, training_data, learning_rate=0.01, epochs=10, batch_size=1, CD_k=1):\n",
    "        self.learning_rate = learning_rate\n",
    "        self.epochs = epochs\n",
    "        self.batch_size = batch_size\n",
    "        self.CD_k = CD_k\n",
    "        \n",
    "        num_batches = int(training_data.shape[0]/self.batch_size)\n",
    "        self.error_history = tf.zeros(self.epochs).numpy()\n",
    "        \n",
    "        for k in range(self.epochs):\n",
    "            error = 0\n",
    "            for b in range(0, num_batches):\n",
    "                batch = training_data[int(b*self.batch_size):int((b+1)*self.batch_size)]\n",
    "                vis=tf.transpose(tf.cast(batch, tf.float32))\n",
    "                self.W_Update(vis)\n",
    "                samples = self.reconstruction(1, vis)\n",
    "                error+=0.25*tf.reduce_sum(tf.square(vis-samples))/tf.cast(tf.reduce_prod(vis.shape),tf.float32)\n",
    "            error = error/num_batches\n",
    "            self.error_history[k] = error\n",
    "            print('Epoch:%d,Training error:%f'%(k, error))\n",
    "\n"
   ]
  },
  {
   "cell_type": "code",
   "execution_count": 176,
   "metadata": {},
   "outputs": [],
   "source": [
    "training_data = np.loadtxt('/Users/chuene/Documents/PhD/Pallab/filename.txt')\n",
    "data = training_data.reshape(10000,100)\n",
    "new_data = data[1000:,:]\n",
    "new_data_train = new_data[:8000]"
   ]
  },
  {
   "cell_type": "code",
   "execution_count": 177,
   "metadata": {},
   "outputs": [
    {
     "name": "stdout",
     "output_type": "stream",
     "text": [
      "Epoch:0,Training error:0.114615\n",
      "Epoch:1,Training error:0.081717\n",
      "Epoch:2,Training error:0.076739\n",
      "Epoch:3,Training error:0.075074\n",
      "Epoch:4,Training error:0.074010\n",
      "Epoch:5,Training error:0.075174\n",
      "Epoch:6,Training error:0.074064\n",
      "Epoch:7,Training error:0.074800\n",
      "Epoch:8,Training error:0.075244\n",
      "Epoch:9,Training error:0.075145\n",
      "Epoch:10,Training error:0.074009\n",
      "Epoch:11,Training error:0.076282\n",
      "Epoch:12,Training error:0.075100\n",
      "Epoch:13,Training error:0.073721\n",
      "Epoch:14,Training error:0.073563\n",
      "Epoch:15,Training error:0.075401\n",
      "Epoch:16,Training error:0.073047\n",
      "Epoch:17,Training error:0.073689\n",
      "Epoch:18,Training error:0.073485\n",
      "Epoch:19,Training error:0.074729\n",
      "Epoch:20,Training error:0.074649\n",
      "Epoch:21,Training error:0.073206\n",
      "Epoch:22,Training error:0.075581\n",
      "Epoch:23,Training error:0.074908\n",
      "Epoch:24,Training error:0.074278\n",
      "Epoch:25,Training error:0.074311\n",
      "Epoch:26,Training error:0.075255\n",
      "Epoch:27,Training error:0.075011\n",
      "Epoch:28,Training error:0.074675\n",
      "Epoch:29,Training error:0.075847\n",
      "Epoch:30,Training error:0.074709\n",
      "Epoch:31,Training error:0.075093\n",
      "Epoch:32,Training error:0.074410\n",
      "Epoch:33,Training error:0.074627\n",
      "Epoch:34,Training error:0.073980\n",
      "Epoch:35,Training error:0.074608\n",
      "Epoch:36,Training error:0.074689\n",
      "Epoch:37,Training error:0.073781\n",
      "Epoch:38,Training error:0.073951\n",
      "Epoch:39,Training error:0.074568\n",
      "Epoch:40,Training error:0.072937\n",
      "Epoch:41,Training error:0.075318\n",
      "Epoch:42,Training error:0.074479\n",
      "Epoch:43,Training error:0.074922\n",
      "Epoch:44,Training error:0.074896\n",
      "Epoch:45,Training error:0.074270\n",
      "Epoch:46,Training error:0.074096\n",
      "Epoch:47,Training error:0.074776\n",
      "Epoch:48,Training error:0.075152\n",
      "Epoch:49,Training error:0.073406\n",
      "Epoch:50,Training error:0.073490\n",
      "Epoch:51,Training error:0.074127\n",
      "Epoch:52,Training error:0.073431\n",
      "Epoch:53,Training error:0.074192\n",
      "Epoch:54,Training error:0.073505\n",
      "Epoch:55,Training error:0.074505\n",
      "Epoch:56,Training error:0.073805\n",
      "Epoch:57,Training error:0.074177\n",
      "Epoch:58,Training error:0.074838\n",
      "Epoch:59,Training error:0.075716\n",
      "Epoch:60,Training error:0.075109\n",
      "Epoch:61,Training error:0.072963\n",
      "Epoch:62,Training error:0.075330\n",
      "Epoch:63,Training error:0.075056\n",
      "Epoch:64,Training error:0.073063\n",
      "Epoch:65,Training error:0.076189\n",
      "Epoch:66,Training error:0.075064\n",
      "Epoch:67,Training error:0.074831\n",
      "Epoch:68,Training error:0.073129\n",
      "Epoch:69,Training error:0.073894\n",
      "Epoch:70,Training error:0.074476\n",
      "Epoch:71,Training error:0.074480\n",
      "Epoch:72,Training error:0.074735\n",
      "Epoch:73,Training error:0.075072\n",
      "Epoch:74,Training error:0.074724\n",
      "Epoch:75,Training error:0.075287\n",
      "Epoch:76,Training error:0.075996\n",
      "Epoch:77,Training error:0.074710\n",
      "Epoch:78,Training error:0.074020\n",
      "Epoch:79,Training error:0.073795\n",
      "Epoch:80,Training error:0.074297\n",
      "Epoch:81,Training error:0.074386\n",
      "Epoch:82,Training error:0.074388\n",
      "Epoch:83,Training error:0.073961\n",
      "Epoch:84,Training error:0.072726\n",
      "Epoch:85,Training error:0.073586\n",
      "Epoch:86,Training error:0.073199\n",
      "Epoch:87,Training error:0.075259\n",
      "Epoch:88,Training error:0.074809\n",
      "Epoch:89,Training error:0.074189\n",
      "Epoch:90,Training error:0.074752\n",
      "Epoch:91,Training error:0.073686\n",
      "Epoch:92,Training error:0.074039\n",
      "Epoch:93,Training error:0.075026\n",
      "Epoch:94,Training error:0.073619\n",
      "Epoch:95,Training error:0.074579\n",
      "Epoch:96,Training error:0.073446\n",
      "Epoch:97,Training error:0.074449\n",
      "Epoch:98,Training error:0.072144\n",
      "Epoch:99,Training error:0.075428\n"
     ]
    },
    {
     "data": {
      "text/plain": [
       "Text(0, 0.5, 'error')"
      ]
     },
     "execution_count": 177,
     "metadata": {},
     "output_type": "execute_result"
    },
    {
     "data": {
      "image/png": "[encoded data removed]",
      "text/plain": [
       "<Figure size 432x288 with 1 Axes>"
      ]
     },
     "metadata": {
      "needs_background": "light"
     },
     "output_type": "display_data"
    }
   ],
   "source": [
    "rbm2 = RBM(vis_unit = 100, hidd_unit=50)\n",
    "model = rbm2.learn(training_data=new_data_train, learning_rate=0.01,epochs=100, CD_k=1, batch_size=50)\n",
    "\n",
    "plt.plot(np.arange(100), rbm2.error_history)\n",
    "plt.xlabel(\"Epochs\")\n",
    "plt.ylabel(\"error\")"
   ]
  },
  {
   "cell_type": "code",
   "execution_count": null,
   "metadata": {},
   "outputs": [],
   "source": []
  },
  {
   "cell_type": "code",
   "execution_count": 153,
   "metadata": {},
   "outputs": [],
   "source": [
    "n1 =  tf.random.uniform([],10,30, dtype=tf.int32)\n",
    "a  = tf.zeros(100)\n",
    "#a[:n1]=1"
   ]
  },
  {
   "cell_type": "code",
   "execution_count": 154,
   "metadata": {},
   "outputs": [
    {
     "data": {
      "text/plain": [
       "<tf.Tensor: shape=(), dtype=int32, numpy=26>"
      ]
     },
     "execution_count": 154,
     "metadata": {},
     "output_type": "execute_result"
    }
   ],
   "source": [
    "n1"
   ]
  },
  {
   "cell_type": "code",
   "execution_count": 155,
   "metadata": {},
   "outputs": [
    {
     "data": {
      "text/plain": [
       "<tf.Tensor: shape=(100,), dtype=float32, numpy=\n",
       "array([0., 0., 0., 0., 0., 0., 0., 0., 0., 0., 0., 0., 0., 0., 0., 0., 0.,\n",
       "       0., 0., 0., 0., 0., 0., 0., 0., 0., 0., 0., 0., 0., 0., 0., 0., 0.,\n",
       "       0., 0., 0., 0., 0., 0., 0., 0., 0., 0., 0., 0., 0., 0., 0., 0., 0.,\n",
       "       0., 0., 0., 0., 0., 0., 0., 0., 0., 0., 0., 0., 0., 0., 0., 0., 0.,\n",
       "       0., 0., 0., 0., 0., 0., 0., 0., 0., 0., 0., 0., 0., 0., 0., 0., 0.,\n",
       "       0., 0., 0., 0., 0., 0., 0., 0., 0., 0., 0., 0., 0., 0., 0.],\n",
       "      dtype=float32)>"
      ]
     },
     "execution_count": 155,
     "metadata": {},
     "output_type": "execute_result"
    }
   ],
   "source": [
    "a"
   ]
  },
  {
   "cell_type": "code",
   "execution_count": 156,
   "metadata": {},
   "outputs": [],
   "source": [
    "#v = tf.slice(a,n1,size=(10,30))\n",
    "v = tf.gather(a, [n1]) "
   ]
  },
  {
   "cell_type": "code",
   "execution_count": 157,
   "metadata": {},
   "outputs": [
    {
     "data": {
      "text/plain": [
       "<tf.Tensor: shape=(1,), dtype=float32, numpy=array([0.], dtype=float32)>"
      ]
     },
     "execution_count": 157,
     "metadata": {},
     "output_type": "execute_result"
    }
   ],
   "source": [
    "v"
   ]
  },
  {
   "cell_type": "code",
   "execution_count": 92,
   "metadata": {},
   "outputs": [],
   "source": [
    "import numpy  as np"
   ]
  },
  {
   "cell_type": "code",
   "execution_count": 136,
   "metadata": {},
   "outputs": [],
   "source": [
    "x = np.random.randint(10,30)"
   ]
  },
  {
   "cell_type": "code",
   "execution_count": 137,
   "metadata": {},
   "outputs": [
    {
     "data": {
      "text/plain": [
       "19"
      ]
     },
     "execution_count": 137,
     "metadata": {},
     "output_type": "execute_result"
    }
   ],
   "source": [
    "x"
   ]
  },
  {
   "cell_type": "code",
   "execution_count": 138,
   "metadata": {},
   "outputs": [],
   "source": [
    "a  = np.zeros(100)"
   ]
  },
  {
   "cell_type": "code",
   "execution_count": 139,
   "metadata": {},
   "outputs": [
    {
     "data": {
      "text/plain": [
       "(100,)"
      ]
     },
     "execution_count": 139,
     "metadata": {},
     "output_type": "execute_result"
    }
   ],
   "source": [
    "a.shape"
   ]
  },
  {
   "cell_type": "code",
   "execution_count": 145,
   "metadata": {},
   "outputs": [
    {
     "data": {
      "text/plain": [
       "(5,)"
      ]
     },
     "execution_count": 145,
     "metadata": {},
     "output_type": "execute_result"
    }
   ],
   "source": [
    "a[:5].shape"
   ]
  },
  {
   "cell_type": "code",
   "execution_count": 128,
   "metadata": {},
   "outputs": [
    {
     "ename": "AttributeError",
     "evalue": "'tensorflow.python.framework.ops.EagerTensor' object has no attribute 'assign'",
     "output_type": "error",
     "traceback": [
      "\u001b[0;31m---------------------------------------------------------------------------\u001b[0m",
      "\u001b[0;31mAttributeError\u001b[0m                            Traceback (most recent call last)",
      "\u001b[0;32m<ipython-input-128-6bfe1e894baf>\u001b[0m in \u001b[0;36m<module>\u001b[0;34m\u001b[0m\n\u001b[0;32m----> 1\u001b[0;31m \u001b[0mtf\u001b[0m\u001b[0;34m.\u001b[0m\u001b[0mcompat\u001b[0m\u001b[0;34m.\u001b[0m\u001b[0mv1\u001b[0m\u001b[0;34m.\u001b[0m\u001b[0massign\u001b[0m\u001b[0;34m(\u001b[0m\u001b[0ma\u001b[0m\u001b[0;34m[\u001b[0m\u001b[0;34m:\u001b[0m\u001b[0mn1\u001b[0m\u001b[0;34m]\u001b[0m\u001b[0;34m,\u001b[0m\u001b[0;36m1\u001b[0m\u001b[0;34m)\u001b[0m\u001b[0;34m\u001b[0m\u001b[0;34m\u001b[0m\u001b[0m\n\u001b[0m",
      "\u001b[0;32m~/.local/lib/python3.7/site-packages/tensorflow/python/ops/state_ops.py\u001b[0m in \u001b[0;36massign\u001b[0;34m(ref, value, validate_shape, use_locking, name)\u001b[0m\n\u001b[1;32m    226\u001b[0m         \u001b[0mref\u001b[0m\u001b[0;34m,\u001b[0m \u001b[0mvalue\u001b[0m\u001b[0;34m,\u001b[0m \u001b[0muse_locking\u001b[0m\u001b[0;34m=\u001b[0m\u001b[0muse_locking\u001b[0m\u001b[0;34m,\u001b[0m \u001b[0mname\u001b[0m\u001b[0;34m=\u001b[0m\u001b[0mname\u001b[0m\u001b[0;34m,\u001b[0m\u001b[0;34m\u001b[0m\u001b[0;34m\u001b[0m\u001b[0m\n\u001b[1;32m    227\u001b[0m         validate_shape=validate_shape)\n\u001b[0;32m--> 228\u001b[0;31m   \u001b[0;32mreturn\u001b[0m \u001b[0mref\u001b[0m\u001b[0;34m.\u001b[0m\u001b[0massign\u001b[0m\u001b[0;34m(\u001b[0m\u001b[0mvalue\u001b[0m\u001b[0;34m,\u001b[0m \u001b[0mname\u001b[0m\u001b[0;34m=\u001b[0m\u001b[0mname\u001b[0m\u001b[0;34m)\u001b[0m\u001b[0;34m\u001b[0m\u001b[0;34m\u001b[0m\u001b[0m\n\u001b[0m\u001b[1;32m    229\u001b[0m \u001b[0;34m\u001b[0m\u001b[0m\n\u001b[1;32m    230\u001b[0m \u001b[0;34m\u001b[0m\u001b[0m\n",
      "\u001b[0;31mAttributeError\u001b[0m: 'tensorflow.python.framework.ops.EagerTensor' object has no attribute 'assign'"
     ]
    }
   ],
   "source": [
    "tf.compat.v1.assign(a[:n1],1)"
   ]
  },
  {
   "cell_type": "code",
   "execution_count": 114,
   "metadata": {},
   "outputs": [
    {
     "data": {
      "text/plain": [
       "<tf.Tensor: shape=(100,), dtype=float32, numpy=\n",
       "array([0., 0., 0., 0., 0., 0., 0., 0., 0., 0., 0., 0., 0., 0., 0., 0., 0.,\n",
       "       0., 0., 0., 0., 0., 0., 0., 0., 0., 0., 0., 0., 0., 0., 0., 0., 0.,\n",
       "       0., 0., 0., 0., 0., 0., 0., 0., 0., 0., 0., 0., 0., 0., 0., 0., 0.,\n",
       "       0., 0., 0., 0., 0., 0., 0., 0., 0., 0., 0., 0., 0., 0., 0., 0., 0.,\n",
       "       0., 0., 0., 0., 0., 0., 0., 0., 0., 0., 0., 0., 0., 0., 0., 0., 0.,\n",
       "       0., 0., 0., 0., 0., 0., 0., 0., 0., 0., 0., 0., 0., 0., 0.],\n",
       "      dtype=float32)>"
      ]
     },
     "execution_count": 114,
     "metadata": {},
     "output_type": "execute_result"
    }
   ],
   "source": [
    "a"
   ]
  },
  {
   "cell_type": "code",
   "execution_count": null,
   "metadata": {},
   "outputs": [],
   "source": []
  }
 ],
 "metadata": {
  "kernelspec": {
   "display_name": "Python 3",
   "language": "python",
   "name": "python3"
  },
  "language_info": {
   "codemirror_mode": {
    "name": "ipython",
    "version": 3
   },
   "file_extension": ".py",
   "mimetype": "text/x-python",
   "name": "python",
   "nbconvert_exporter": "python",
   "pygments_lexer": "ipython3",
   "version": "3.7.3"
  }
 },
 "nbformat": 4,
 "nbformat_minor": 2
}
